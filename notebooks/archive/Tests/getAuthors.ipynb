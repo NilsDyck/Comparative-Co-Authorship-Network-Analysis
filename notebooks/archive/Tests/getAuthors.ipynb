{
 "cells": [
  {
   "cell_type": "markdown",
   "metadata": {},
   "source": [
    "# Get Authors from CIAA-Conference\n",
    "This notebook gives you all authors from any CIAA-Conference (given by URL from LNCS) written in a csv-file.\n",
    "###### written by Nils Dyck, 29.09.2022"
   ]
  },
  {
   "cell_type": "code",
   "execution_count": 11,
   "metadata": {},
   "outputs": [],
   "source": [
    "# Downloads the html-Code of the given URL and cooks the soup\n",
    "\n",
    "import urllib.request, urllib.error, urllib.parse\n",
    "\n",
    "from bs4 import BeautifulSoup\n",
    "\n",
    "#url = 'https://link.springer.com/book/10.1007/978-3-031-07469-1'\n",
    "\n",
    "url = input('Enter URL to download: ')\n",
    "\n",
    "response = urllib.request.urlopen(url)\n",
    "webContent = response.read().decode('UTF-8')\n",
    "\n",
    "soup = BeautifulSoup(webContent, 'html.parser')"
   ]
  },
  {
   "cell_type": "code",
   "execution_count": 12,
   "metadata": {},
   "outputs": [],
   "source": [
    "authors = soup.find_all(class_ = 'c-author-list__item') #collects authors"
   ]
  },
  {
   "cell_type": "code",
   "execution_count": 13,
   "metadata": {},
   "outputs": [
    {
     "data": {
      "text/plain": [
       "'Hermann Gruber, Markus Holzer, Christian Rauch;Nelma Moreira, Rogério Reis;Sicheol Sung, Hyunjoon Cheon, Yo-Sub Han;Brink van der Merwe, Martin Berglund;Florent Jacquemard, Lydia Rodriguez de la Nava;Florian Bruse, Maurice Herwig, Martin Lange;Frank Drewes, Richard Mörbitz, Heiko Vogler;Jakub Ruszil;Laura K. Hutchinson, Robert Mercaş, Daniel Reidenbach;Martin Kutrib, Uwe Meyer;Martin Kutrib, Andreas Malcher, Matthias Wendlandt;Michal Hospodár, Viktor Olejár;Nicholas Tran;Olga Martynova, Alexander Okhotin;Oliver A. S. Lyon, Kai Salomaa;Öykü Yılmaz, Fırat Kıyak, Meriç Üngör, A. C. Cem Say;Özdeniz Dolu, Nevzat Ersoy, M. Utkan Gezer, A. C. Cem Say;'"
      ]
     },
     "execution_count": 13,
     "metadata": {},
     "output_type": "execute_result"
    }
   ],
   "source": [
    "#Make a string with all author names\n",
    "author_list = ''\n",
    "for author in authors:\n",
    "   author_list += (author.string+';')\n",
    "author_list"
   ]
  },
  {
   "cell_type": "code",
   "execution_count": 14,
   "metadata": {},
   "outputs": [
    {
     "data": {
      "text/plain": [
       "'Hermann Gruber;Markus Holzer;Christian Rauch;Nelma Moreira;Rogério Reis;Sicheol Sung;Hyunjoon Cheon;Yo-Sub Han;Brink van der Merwe;Martin Berglund;Florent Jacquemard;Lydia Rodriguez de la Nava;Florian Bruse;Maurice Herwig;Martin Lange;Frank Drewes;Richard Mörbitz;Heiko Vogler;Jakub Ruszil;Laura K. Hutchinson;Robert Mercaş;Daniel Reidenbach;Martin Kutrib;Uwe Meyer;Martin Kutrib;Andreas Malcher;Matthias Wendlandt;Michal Hospodár;Viktor Olejár;Nicholas Tran;Olga Martynova;Alexander Okhotin;Oliver A. S. Lyon;Kai Salomaa;Öykü Yılmaz;Fırat Kıyak;Meriç Üngör;A. C. Cem Say;Özdeniz Dolu;Nevzat Ersoy;M. Utkan Gezer;A. C. Cem Say'"
      ]
     },
     "execution_count": 14,
     "metadata": {},
     "output_type": "execute_result"
    }
   ],
   "source": [
    "#Cleaning up\n",
    "author_list = author_list.replace(', ', ';')\n",
    "author_list = author_list[:-1]\n",
    "author_list"
   ]
  },
  {
   "cell_type": "code",
   "execution_count": 15,
   "metadata": {},
   "outputs": [
    {
     "data": {
      "text/plain": [
       "['Hermann Gruber',\n",
       " 'Markus Holzer',\n",
       " 'Christian Rauch',\n",
       " 'Nelma Moreira',\n",
       " 'Rogério Reis',\n",
       " 'Sicheol Sung',\n",
       " 'Hyunjoon Cheon',\n",
       " 'Yo-Sub Han',\n",
       " 'Brink van der Merwe',\n",
       " 'Martin Berglund',\n",
       " 'Florent Jacquemard',\n",
       " 'Lydia Rodriguez de la Nava',\n",
       " 'Florian Bruse',\n",
       " 'Maurice Herwig',\n",
       " 'Martin Lange',\n",
       " 'Frank Drewes',\n",
       " 'Richard Mörbitz',\n",
       " 'Heiko Vogler',\n",
       " 'Jakub Ruszil',\n",
       " 'Laura K. Hutchinson',\n",
       " 'Robert Mercaş',\n",
       " 'Daniel Reidenbach',\n",
       " 'Martin Kutrib',\n",
       " 'Uwe Meyer',\n",
       " 'Martin Kutrib',\n",
       " 'Andreas Malcher',\n",
       " 'Matthias Wendlandt',\n",
       " 'Michal Hospodár',\n",
       " 'Viktor Olejár',\n",
       " 'Nicholas Tran',\n",
       " 'Olga Martynova',\n",
       " 'Alexander Okhotin',\n",
       " 'Oliver A. S. Lyon',\n",
       " 'Kai Salomaa',\n",
       " 'Öykü Yılmaz',\n",
       " 'Fırat Kıyak',\n",
       " 'Meriç Üngör',\n",
       " 'A. C. Cem Say',\n",
       " 'Özdeniz Dolu',\n",
       " 'Nevzat Ersoy',\n",
       " 'M. Utkan Gezer']"
      ]
     },
     "execution_count": 15,
     "metadata": {},
     "output_type": "execute_result"
    }
   ],
   "source": [
    "import re\n",
    "single_author = []\n",
    "while author_list != 'A. C. Cem Say':\n",
    "    found = re.search('.*?;', author_list).group()\n",
    "    found = found[:-1]\n",
    "    single_author.append(found)\n",
    "    author_list = re.sub('.*?;','',author_list,1)\n",
    "single_author"
   ]
  },
  {
   "cell_type": "code",
   "execution_count": 16,
   "metadata": {},
   "outputs": [],
   "source": [
    "single_author = set(single_author) #doppelte Einträge entfernen\n",
    "with open('authors.csv', 'w') as f:\n",
    "    for author in single_author:\n",
    "        f.write(author+'\\n')"
   ]
  }
 ],
 "metadata": {
  "kernelspec": {
   "display_name": "Python 3.9.12 ('base')",
   "language": "python",
   "name": "python3"
  },
  "language_info": {
   "codemirror_mode": {
    "name": "ipython",
    "version": 3
   },
   "file_extension": ".py",
   "mimetype": "text/x-python",
   "name": "python",
   "nbconvert_exporter": "python",
   "pygments_lexer": "ipython3",
   "version": "3.9.12"
  },
  "orig_nbformat": 4,
  "vscode": {
   "interpreter": {
    "hash": "d486b63b850724bc6551cda0a2a2678785b3f8f51c1b5738c292f3857cafcf62"
   }
  }
 },
 "nbformat": 4,
 "nbformat_minor": 2
}
