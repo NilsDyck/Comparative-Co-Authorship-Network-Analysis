{
 "cells": [
  {
   "cell_type": "code",
   "execution_count": 77,
   "metadata": {},
   "outputs": [],
   "source": [
    "import urllib.request, urllib.error, urllib.parse\n",
    "\n",
    "import re #for using regular expressions by finding the paper titles\n",
    "\n",
    "from bs4 import BeautifulSoup\n",
    "\n",
    "counter = 0 #for the right year\n",
    "\n",
    "#with open('CIAA.csv', 'w') as f:\n",
    "#        f.write('Venue;Title;Authors;Abstract\\n')\n",
    "\n",
    "allURLs = ['https://link.springer.com/book/10.1007/3-540-44977-9','https://link.springer.com/book/10.1007/3-540-36390-4','https://link.springer.com/book/10.1007/3-540-44674-5','https://link.springer.com/book/10.1007/3-540-45526-4','https://link.springer.com/book/10.1007/3-540-48057-9','https://link.springer.com/book/10.1007/BFb0031375','https://link.springer.com/book/10.1007/3-540-63174-7']\n"
   ]
  },
  {
   "cell_type": "code",
   "execution_count": 78,
   "metadata": {},
   "outputs": [
    {
     "ename": "HTTPError",
     "evalue": "HTTP Error 404: Not Found",
     "output_type": "error",
     "traceback": [
      "\u001b[0;31m---------------------------------------------------------------------------\u001b[0m",
      "\u001b[0;31mHTTPError\u001b[0m                                 Traceback (most recent call last)",
      "\u001b[1;32m/Users/nils.dyck/Nextcloud/Studium/1. Staatsexamen/WHA/Tests/getAllData.ipynb Zelle 2\u001b[0m in \u001b[0;36m<cell line: 1>\u001b[0;34m()\u001b[0m\n\u001b[1;32m     <a href='vscode-notebook-cell:/Users/nils.dyck/Nextcloud/Studium/1.%20Staatsexamen/WHA/Tests/getAllData.ipynb#W1sZmlsZQ%3D%3D?line=16'>17</a>\u001b[0m abstractSites \u001b[39m=\u001b[39m []\n\u001b[1;32m     <a href='vscode-notebook-cell:/Users/nils.dyck/Nextcloud/Studium/1.%20Staatsexamen/WHA/Tests/getAllData.ipynb#W1sZmlsZQ%3D%3D?line=17'>18</a>\u001b[0m \u001b[39mfor\u001b[39;00m l \u001b[39min\u001b[39;00m \u001b[39mrange\u001b[39m(\u001b[39mlen\u001b[39m(urls)):\n\u001b[0;32m---> <a href='vscode-notebook-cell:/Users/nils.dyck/Nextcloud/Studium/1.%20Staatsexamen/WHA/Tests/getAllData.ipynb#W1sZmlsZQ%3D%3D?line=18'>19</a>\u001b[0m     response \u001b[39m=\u001b[39m urllib\u001b[39m.\u001b[39;49mrequest\u001b[39m.\u001b[39;49murlopen(urls[l])\n\u001b[1;32m     <a href='vscode-notebook-cell:/Users/nils.dyck/Nextcloud/Studium/1.%20Staatsexamen/WHA/Tests/getAllData.ipynb#W1sZmlsZQ%3D%3D?line=19'>20</a>\u001b[0m     htmlCode \u001b[39m=\u001b[39m response\u001b[39m.\u001b[39mread()\u001b[39m.\u001b[39mdecode(\u001b[39m'\u001b[39m\u001b[39mUTF-8\u001b[39m\u001b[39m'\u001b[39m)\n\u001b[1;32m     <a href='vscode-notebook-cell:/Users/nils.dyck/Nextcloud/Studium/1.%20Staatsexamen/WHA/Tests/getAllData.ipynb#W1sZmlsZQ%3D%3D?line=20'>21</a>\u001b[0m     abstractSites\u001b[39m.\u001b[39mappend(BeautifulSoup(htmlCode, \u001b[39m'\u001b[39m\u001b[39mhtml.parser\u001b[39m\u001b[39m'\u001b[39m))\n",
      "File \u001b[0;32m~/opt/anaconda3/lib/python3.9/urllib/request.py:214\u001b[0m, in \u001b[0;36murlopen\u001b[0;34m(url, data, timeout, cafile, capath, cadefault, context)\u001b[0m\n\u001b[1;32m    212\u001b[0m \u001b[39melse\u001b[39;00m:\n\u001b[1;32m    213\u001b[0m     opener \u001b[39m=\u001b[39m _opener\n\u001b[0;32m--> 214\u001b[0m \u001b[39mreturn\u001b[39;00m opener\u001b[39m.\u001b[39;49mopen(url, data, timeout)\n",
      "File \u001b[0;32m~/opt/anaconda3/lib/python3.9/urllib/request.py:523\u001b[0m, in \u001b[0;36mOpenerDirector.open\u001b[0;34m(self, fullurl, data, timeout)\u001b[0m\n\u001b[1;32m    521\u001b[0m \u001b[39mfor\u001b[39;00m processor \u001b[39min\u001b[39;00m \u001b[39mself\u001b[39m\u001b[39m.\u001b[39mprocess_response\u001b[39m.\u001b[39mget(protocol, []):\n\u001b[1;32m    522\u001b[0m     meth \u001b[39m=\u001b[39m \u001b[39mgetattr\u001b[39m(processor, meth_name)\n\u001b[0;32m--> 523\u001b[0m     response \u001b[39m=\u001b[39m meth(req, response)\n\u001b[1;32m    525\u001b[0m \u001b[39mreturn\u001b[39;00m response\n",
      "File \u001b[0;32m~/opt/anaconda3/lib/python3.9/urllib/request.py:632\u001b[0m, in \u001b[0;36mHTTPErrorProcessor.http_response\u001b[0;34m(self, request, response)\u001b[0m\n\u001b[1;32m    629\u001b[0m \u001b[39m# According to RFC 2616, \"2xx\" code indicates that the client's\u001b[39;00m\n\u001b[1;32m    630\u001b[0m \u001b[39m# request was successfully received, understood, and accepted.\u001b[39;00m\n\u001b[1;32m    631\u001b[0m \u001b[39mif\u001b[39;00m \u001b[39mnot\u001b[39;00m (\u001b[39m200\u001b[39m \u001b[39m<\u001b[39m\u001b[39m=\u001b[39m code \u001b[39m<\u001b[39m \u001b[39m300\u001b[39m):\n\u001b[0;32m--> 632\u001b[0m     response \u001b[39m=\u001b[39m \u001b[39mself\u001b[39;49m\u001b[39m.\u001b[39;49mparent\u001b[39m.\u001b[39;49merror(\n\u001b[1;32m    633\u001b[0m         \u001b[39m'\u001b[39;49m\u001b[39mhttp\u001b[39;49m\u001b[39m'\u001b[39;49m, request, response, code, msg, hdrs)\n\u001b[1;32m    635\u001b[0m \u001b[39mreturn\u001b[39;00m response\n",
      "File \u001b[0;32m~/opt/anaconda3/lib/python3.9/urllib/request.py:561\u001b[0m, in \u001b[0;36mOpenerDirector.error\u001b[0;34m(self, proto, *args)\u001b[0m\n\u001b[1;32m    559\u001b[0m \u001b[39mif\u001b[39;00m http_err:\n\u001b[1;32m    560\u001b[0m     args \u001b[39m=\u001b[39m (\u001b[39mdict\u001b[39m, \u001b[39m'\u001b[39m\u001b[39mdefault\u001b[39m\u001b[39m'\u001b[39m, \u001b[39m'\u001b[39m\u001b[39mhttp_error_default\u001b[39m\u001b[39m'\u001b[39m) \u001b[39m+\u001b[39m orig_args\n\u001b[0;32m--> 561\u001b[0m     \u001b[39mreturn\u001b[39;00m \u001b[39mself\u001b[39;49m\u001b[39m.\u001b[39;49m_call_chain(\u001b[39m*\u001b[39;49margs)\n",
      "File \u001b[0;32m~/opt/anaconda3/lib/python3.9/urllib/request.py:494\u001b[0m, in \u001b[0;36mOpenerDirector._call_chain\u001b[0;34m(self, chain, kind, meth_name, *args)\u001b[0m\n\u001b[1;32m    492\u001b[0m \u001b[39mfor\u001b[39;00m handler \u001b[39min\u001b[39;00m handlers:\n\u001b[1;32m    493\u001b[0m     func \u001b[39m=\u001b[39m \u001b[39mgetattr\u001b[39m(handler, meth_name)\n\u001b[0;32m--> 494\u001b[0m     result \u001b[39m=\u001b[39m func(\u001b[39m*\u001b[39;49margs)\n\u001b[1;32m    495\u001b[0m     \u001b[39mif\u001b[39;00m result \u001b[39mis\u001b[39;00m \u001b[39mnot\u001b[39;00m \u001b[39mNone\u001b[39;00m:\n\u001b[1;32m    496\u001b[0m         \u001b[39mreturn\u001b[39;00m result\n",
      "File \u001b[0;32m~/opt/anaconda3/lib/python3.9/urllib/request.py:641\u001b[0m, in \u001b[0;36mHTTPDefaultErrorHandler.http_error_default\u001b[0;34m(self, req, fp, code, msg, hdrs)\u001b[0m\n\u001b[1;32m    640\u001b[0m \u001b[39mdef\u001b[39;00m \u001b[39mhttp_error_default\u001b[39m(\u001b[39mself\u001b[39m, req, fp, code, msg, hdrs):\n\u001b[0;32m--> 641\u001b[0m     \u001b[39mraise\u001b[39;00m HTTPError(req\u001b[39m.\u001b[39mfull_url, code, msg, hdrs, fp)\n",
      "\u001b[0;31mHTTPError\u001b[0m: HTTP Error 404: Not Found"
     ]
    }
   ],
   "source": [
    "for url in allURLs:\n",
    "    response = urllib.request.urlopen(url)\n",
    "    webContent = response.read().decode('UTF-8')\n",
    "\n",
    "    soup = BeautifulSoup(webContent, 'html.parser')\n",
    "\n",
    "    titles = soup.find_all(href = re.compile('/chapter/')) #collects titles\n",
    "    authors = soup.find_all(class_ = 'c-author-list__item') #collects authors\n",
    "    #create urls for paper-sites\n",
    "    urls = []\n",
    "    for j in range(1,len(titles)+1):\n",
    "        urls.append(url+'_'+str(j))\n",
    "    for k in range(len(urls)):\n",
    "        urls[k] = urls[k].replace('book', 'chapter')\n",
    "    urls\n",
    "\n",
    "    abstractSites = []\n",
    "    for l in range(len(urls)):\n",
    "        response = urllib.request.urlopen(urls[l])\n",
    "        htmlCode = response.read().decode('UTF-8')\n",
    "        abstractSites.append(BeautifulSoup(htmlCode, 'html.parser'))\n",
    "    #abstractSites\n",
    "\n",
    "    abstract_strings = []\n",
    "    for file in abstractSites:\n",
    "        abstract = file.find(class_ = 'c-article-section__content')\n",
    "        abstract_strings.append(abstract.find('p'))\n",
    "    #abstract_strings\n",
    "\n",
    "    #Cleaning up the array of abstracts a little bit\n",
    "    for n in range(len(abstract_strings)):\n",
    "        abstract_strings[n] = str(abstract_strings[n]).replace(\";\",\".\") #for the csv-file there must not be any semicola in the abstracts\n",
    "        abstract_strings[n] = re.sub(\"<.*?>\",\"\",abstract_strings[n]) #no html-tag should survive this action.\n",
    "        abstract_strings[n] = abstract_strings[n].replace(\"\\n\",\"\")\n",
    "    \n",
    "    #Writes a csv-file separated by ';'\n",
    "    with open('CIAA.csv', 'a') as f:\n",
    "        for i in range(len(titles)):\n",
    "            f.write('CIAA '+str(2002-counter)+';')\n",
    "            f.write(titles[i].string)\n",
    "            f.write(';')\n",
    "            f.write(authors[i].string)\n",
    "            f.write(';')\n",
    "            f.write(str(abstract_strings[i]))\n",
    "            f.write('\\n')\n",
    "    counter +=1"
   ]
  }
 ],
 "metadata": {
  "kernelspec": {
   "display_name": "Python 3.9.12 ('base')",
   "language": "python",
   "name": "python3"
  },
  "language_info": {
   "codemirror_mode": {
    "name": "ipython",
    "version": 3
   },
   "file_extension": ".py",
   "mimetype": "text/x-python",
   "name": "python",
   "nbconvert_exporter": "python",
   "pygments_lexer": "ipython3",
   "version": "3.9.12"
  },
  "orig_nbformat": 4,
  "vscode": {
   "interpreter": {
    "hash": "d486b63b850724bc6551cda0a2a2678785b3f8f51c1b5738c292f3857cafcf62"
   }
  }
 },
 "nbformat": 4,
 "nbformat_minor": 2
}
