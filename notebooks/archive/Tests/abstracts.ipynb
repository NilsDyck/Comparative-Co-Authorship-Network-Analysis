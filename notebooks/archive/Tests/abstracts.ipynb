{
 "cells": [
  {
   "cell_type": "markdown",
   "metadata": {},
   "source": [
    "# Extracting Abstracts from LNCS-Papers\n",
    "\n",
    "This notebook gives you the abstract from any given paper from LNCS as a string by just inserting its URL. It creates a new file with any ending and saves the abstract.\n",
    "\n",
    "###### written by Nils Dyck, 27.09.2022\n"
   ]
  },
  {
   "cell_type": "code",
   "execution_count": 37,
   "metadata": {},
   "outputs": [],
   "source": [
    "#Downloads the html-Code of the given URL and cooks the soup\n",
    "\n",
    "import urllib.request, urllib.error, urllib.parse, re\n",
    "\n",
    "from bs4 import BeautifulSoup\n",
    "\n",
    "url = input('Enter URL to download: ')\n",
    "\n",
    "response = urllib.request.urlopen(url)\n",
    "webContent = response.read().decode('UTF-8')\n",
    "\n",
    "soup = BeautifulSoup(webContent, 'html.parser')"
   ]
  },
  {
   "cell_type": "code",
   "execution_count": 38,
   "metadata": {},
   "outputs": [
    {
     "name": "stdout",
     "output_type": "stream",
     "text": [
      "None\n",
      "<p>Conference proceedings are one of the key communication channels in computer science. This paper aims to analyze the Chinese outputs in the context of conference papers in computer science through an exploration of the conference proceedings series book-<i>Lecture Notes in Computer Science</i> (<i>LNCS</i>) in the period of 1997–2005. Results indicate that: 1. The number of Chinese papers in <i>LNCS</i> keeps growing in the studied period; the share of Chinese papers in <i>LNCS</i> in recent years is much higher than that of Chinese SCI papers in the world; In sharp contrast with remarkable growth of the share of Chinese papers in <i>LNCS</i>, the share of SCI articles in top journals of computer science published by the scientists of mainland China is negligible during the same period. 2. Chinese researchers are more likely to collaborate with domestic fellows; 3. In spite of the increasing amounts of Chinese papers in <i>LNCS</i>, they receive only a few citations; 4. The articles are strikingly more cited by authors themselves and international authors’ citations are more than Chinese authors’ non-self-citations in the first three years after publication; 5. Based on the new indicator Impact Index (II) the authors proposed, the relative impact of Chinese articles in <i>LNCS</i> is increasing although the average impact of Chinese papers in <i>LNCS</i> is obviously less than that of the publications in <i>LNCS</i> in each year during the studied period.</p>\n"
     ]
    }
   ],
   "source": [
    "#finds the abstract of the given paper-page from LNCS\n",
    "\n",
    "abstract = soup.find(class_ = 'c-article-section__content')\n",
    "\n",
    "abstract_string = abstract.find('p')\n",
    "\n",
    "print(abstract_string.string) #fails if there are any tags between the p-tags\n",
    "\n",
    "print(abstract_string) #prints anything between the p-tags. To get a clean string you have to use the cleaning steps at the following cell\n"
   ]
  },
  {
   "cell_type": "code",
   "execution_count": 39,
   "metadata": {},
   "outputs": [
    {
     "data": {
      "text/plain": [
       "'Conference proceedings are one of the key communication channels in computer science. This paper aims to analyze the Chinese outputs in the context of conference papers in computer science through an exploration of the conference proceedings series book-Lecture Notes in Computer Science (LNCS) in the period of 1997–2005. Results indicate that: 1. The number of Chinese papers in LNCS keeps growing in the studied period. the share of Chinese papers in LNCS in recent years is much higher than that of Chinese SCI papers in the world. In sharp contrast with remarkable growth of the share of Chinese papers in LNCS, the share of SCI articles in top journals of computer science published by the scientists of mainland China is negligible during the same period. 2. Chinese researchers are more likely to collaborate with domestic fellows. 3. In spite of the increasing amounts of Chinese papers in LNCS, they receive only a few citations. 4. The articles are strikingly more cited by authors themselves and international authors’ citations are more than Chinese authors’ non-self-citations in the first three years after publication. 5. Based on the new indicator Impact Index (II) the authors proposed, the relative impact of Chinese articles in LNCS is increasing although the average impact of Chinese papers in LNCS is obviously less than that of the publications in LNCS in each year during the studied period.'"
      ]
     },
     "execution_count": 39,
     "metadata": {},
     "output_type": "execute_result"
    }
   ],
   "source": [
    "#Cleaning up the abstract a little bit\n",
    "abstract_string = str(abstract_string).replace(\";\",\".\") #for the csv-file there must not be any semicola in the abstracts\n",
    "abstract_string = re.sub(\"<.*?>\",\"\",abstract_string) #no html-tag should survive this action.\n",
    "abstract_string = abstract_string.replace(\"\\n\",\"\")\n",
    "\n",
    "abstract_string"
   ]
  },
  {
   "cell_type": "code",
   "execution_count": 40,
   "metadata": {},
   "outputs": [],
   "source": [
    "#Creates a file on your wish and saves the abstract\n",
    "with open(input(\"Please enter file name and ending\"),\"w\") as f:\n",
    "    f.write(abstract_string)"
   ]
  }
 ],
 "metadata": {
  "kernelspec": {
   "display_name": "Python 3.9.12 ('base')",
   "language": "python",
   "name": "python3"
  },
  "language_info": {
   "codemirror_mode": {
    "name": "ipython",
    "version": 3
   },
   "file_extension": ".py",
   "mimetype": "text/x-python",
   "name": "python",
   "nbconvert_exporter": "python",
   "pygments_lexer": "ipython3",
   "version": "3.9.12"
  },
  "orig_nbformat": 4,
  "vscode": {
   "interpreter": {
    "hash": "d486b63b850724bc6551cda0a2a2678785b3f8f51c1b5738c292f3857cafcf62"
   }
  }
 },
 "nbformat": 4,
 "nbformat_minor": 2
}
