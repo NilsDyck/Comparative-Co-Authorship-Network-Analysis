{
 "cells": [
  {
   "cell_type": "markdown",
   "metadata": {},
   "source": [
    "# Collecting Data from a CIAA-Conference\n",
    "This notebook collects all the papers from any CIAA-Conference including a title, the authors and the abstracts by using an URL from LNCS. It writes the data into a .csv-file. Make sure to give the right link and date and to decide weither there should be a title-line. Semicola are used as separators.\n",
    "\n",
    "###### written by Nils Dyck, 27.09.2022"
   ]
  },
  {
   "cell_type": "code",
   "execution_count": 142,
   "metadata": {},
   "outputs": [],
   "source": [
    "# Downloads the html-Code of the given URL and cooks the soup\n",
    "\n",
    "import urllib.request, urllib.error, urllib.parse\n",
    "\n",
    "from bs4 import BeautifulSoup\n",
    "\n",
    "#url = 'https://link.springer.com/book/10.1007/978-3-031-07469-1'\n",
    "\n",
    "url = input('Enter URL to download: ')\n",
    "\n",
    "response = urllib.request.urlopen(url)\n",
    "webContent = response.read().decode('UTF-8')\n",
    "\n",
    "soup = BeautifulSoup(webContent, 'html.parser')\n"
   ]
  },
  {
   "cell_type": "code",
   "execution_count": 143,
   "metadata": {},
   "outputs": [],
   "source": [
    "import re #for using regular expressions to find paper titles\n",
    "titles = soup.find_all(href = re.compile('/chapter/')) #collects titles\n",
    "authors = soup.find_all(class_ = 'c-author-list__item') #collects authors"
   ]
  },
  {
   "cell_type": "code",
   "execution_count": 144,
   "metadata": {},
   "outputs": [],
   "source": [
    "#create urls for paper-sites\n",
    "urls = []\n",
    "for j in range(1,len(titles)+1):\n",
    "    urls.append(url+'_'+str(j))\n",
    "for k in range(len(urls)):\n",
    "    urls[k] = urls[k].replace('book', 'chapter')\n",
    "urls\n",
    "\n",
    "abstractSites = []\n",
    "for l in range(len(urls)):\n",
    "    response = urllib.request.urlopen(urls[l])\n",
    "    htmlCode = response.read().decode('UTF-8')\n",
    "    abstractSites.append(BeautifulSoup(htmlCode, 'html.parser'))\n",
    "#abstractSites"
   ]
  },
  {
   "cell_type": "code",
   "execution_count": 145,
   "metadata": {},
   "outputs": [],
   "source": [
    "abstract_strings = []\n",
    "for file in abstractSites:\n",
    "    abstract = file.find(class_ = 'c-article-section__content')\n",
    "    abstract_strings.append(abstract.find('p'))\n",
    "#abstract_strings\n"
   ]
  },
  {
   "cell_type": "code",
   "execution_count": 146,
   "metadata": {},
   "outputs": [],
   "source": [
    "#Cleaning up the array of abstracts a little bit\n",
    "#for string in abstract_strings:\n",
    "    #string = str(string).replace(\";\",\".\") #for the csv-file there must not be any semicola in the abstracts\n",
    "    #string = string.replace(\"<\"+str(re.compile('.*'))+\">\",\"\") #no html-tag should survive this action.\n",
    "\n",
    "for n in range(len(abstract_strings)):\n",
    "    abstract_strings[n] = str(abstract_strings[n]).replace(\";\",\".\") #for the csv-file there must not be any semicola in the abstracts\n",
    "    abstract_strings[n] = re.sub(\"<.*?>\",\"\",abstract_strings[n]) #no html-tag should survive this action.\n",
    "    abstract_strings[n] = abstract_strings[n].replace(\"\\n\",\"\")"
   ]
  },
  {
   "cell_type": "code",
   "execution_count": 147,
   "metadata": {},
   "outputs": [],
   "source": [
    "#Writes a csv-file separated by ';'\n",
    "with open('CIAA.csv', 'a') as f:\n",
    "    #f.write('Venue;Title;Authors;Abstract\\n')\n",
    "    for i in range(len(titles)):\n",
    "        f.write('CIAA 1996;')\n",
    "        f.write(titles[i].string)\n",
    "        f.write(';')\n",
    "        f.write(authors[i].string)\n",
    "        f.write(';')\n",
    "        f.write(str(abstract_strings[i]))\n",
    "        f.write('\\n')"
   ]
  }
 ],
 "metadata": {
  "kernelspec": {
   "display_name": "Python 3.9.12 ('base')",
   "language": "python",
   "name": "python3"
  },
  "language_info": {
   "codemirror_mode": {
    "name": "ipython",
    "version": 3
   },
   "file_extension": ".py",
   "mimetype": "text/x-python",
   "name": "python",
   "nbconvert_exporter": "python",
   "pygments_lexer": "ipython3",
   "version": "3.9.12"
  },
  "orig_nbformat": 4,
  "vscode": {
   "interpreter": {
    "hash": "d486b63b850724bc6551cda0a2a2678785b3f8f51c1b5738c292f3857cafcf62"
   }
  }
 },
 "nbformat": 4,
 "nbformat_minor": 2
}
