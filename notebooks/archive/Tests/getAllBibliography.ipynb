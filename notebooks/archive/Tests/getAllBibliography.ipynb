{
 "cells": [
  {
   "cell_type": "markdown",
   "metadata": {},
   "source": [
    "# Get Bibliographic Information\n",
    "This notebooks finds the bibliographic information (Author, Co-Authors, Title, DOI, Date, Publisher Name, Print ISBN, Online ISBN and Abstract) from any paper from the given CIAA-Conference (URL).\n",
    "###### written by Nils Dyck, 30.09.2022"
   ]
  },
  {
   "cell_type": "code",
   "execution_count": 32,
   "metadata": {},
   "outputs": [],
   "source": [
    "# Downloads the html-Code of the given URL and cooks the soup\n",
    "\n",
    "import urllib.request, urllib.error, urllib.parse, re\n",
    "\n",
    "from bs4 import BeautifulSoup\n",
    "\n",
    "url = input('Enter URL to download: ')\n",
    "#url = 'https://link.springer.com/book/10.1007/978-3-031-07469-1'\n",
    "\n",
    "response = urllib.request.urlopen(url)\n",
    "webContent = response.read().decode('UTF-8')\n",
    "\n",
    "soup = BeautifulSoup(webContent, 'html.parser')"
   ]
  },
  {
   "cell_type": "code",
   "execution_count": 33,
   "metadata": {},
   "outputs": [],
   "source": [
    "import re #for using regular expressions to find paper titles\n",
    "titles = soup.find_all(href = re.compile('/chapter/')) #collects titles"
   ]
  },
  {
   "cell_type": "code",
   "execution_count": 34,
   "metadata": {},
   "outputs": [],
   "source": [
    "#create urls for paper-sites\n",
    "urls = []\n",
    "for j in range(1,len(titles)+1):\n",
    "    urls.append(url+'_'+str(j))\n",
    "for k in range(len(urls)):\n",
    "    urls[k] = urls[k].replace('book', 'chapter')\n",
    "#urls\n",
    "\n",
    "paper_sites = []\n",
    "for l in range(len(urls)):\n",
    "    response = urllib.request.urlopen(urls[l])\n",
    "    htmlCode = response.read().decode('UTF-8')\n",
    "    paper_sites.append(BeautifulSoup(htmlCode, 'html.parser'))\n"
   ]
  },
  {
   "cell_type": "code",
   "execution_count": 35,
   "metadata": {},
   "outputs": [
    {
     "ename": "IndexError",
     "evalue": "list index out of range",
     "output_type": "error",
     "traceback": [
      "\u001b[0;31m---------------------------------------------------------------------------\u001b[0m",
      "\u001b[0;31mIndexError\u001b[0m                                Traceback (most recent call last)",
      "\u001b[1;32m/Users/nils.dyck/Documents/ciaa-data-science-project/Tests/getAllBibliography.ipynb Zelle 5\u001b[0m in \u001b[0;36m<cell line: 8>\u001b[0;34m()\u001b[0m\n\u001b[1;32m     <a href='vscode-notebook-cell:/Users/nils.dyck/Documents/ciaa-data-science-project/Tests/getAllBibliography.ipynb#W3sZmlsZQ%3D%3D?line=62'>63</a>\u001b[0m \u001b[39m#f.write(str(co_authors[i])+';')#list form\u001b[39;00m\n\u001b[1;32m     <a href='vscode-notebook-cell:/Users/nils.dyck/Documents/ciaa-data-science-project/Tests/getAllBibliography.ipynb#W3sZmlsZQ%3D%3D?line=63'>64</a>\u001b[0m f\u001b[39m.\u001b[39mwrite(title\u001b[39m+\u001b[39m\u001b[39m'\u001b[39m\u001b[39m;\u001b[39m\u001b[39m'\u001b[39m)\n\u001b[0;32m---> <a href='vscode-notebook-cell:/Users/nils.dyck/Documents/ciaa-data-science-project/Tests/getAllBibliography.ipynb#W3sZmlsZQ%3D%3D?line=64'>65</a>\u001b[0m f\u001b[39m.\u001b[39mwrite(bi[\u001b[39m0\u001b[39m]\u001b[39m.\u001b[39mstring\u001b[39m+\u001b[39m\u001b[39m'\u001b[39m\u001b[39m; \u001b[39m\u001b[39m'\u001b[39m\u001b[39m+\u001b[39mbi[\u001b[39m1\u001b[39m]\u001b[39m.\u001b[39mstring\u001b[39m+\u001b[39m\u001b[39m'\u001b[39m\u001b[39m; \u001b[39m\u001b[39m'\u001b[39m\u001b[39m+\u001b[39mbi[\u001b[39m2\u001b[39m]\u001b[39m.\u001b[39mstring\u001b[39m+\u001b[39m\u001b[39m'\u001b[39m\u001b[39m; \u001b[39m\u001b[39m'\u001b[39m\u001b[39m+\u001b[39mbi[\u001b[39m3\u001b[39m]\u001b[39m.\u001b[39mstring\u001b[39m+\u001b[39m\u001b[39m'\u001b[39m\u001b[39m; \u001b[39m\u001b[39m'\u001b[39m\u001b[39m+\u001b[39mbi[\u001b[39m4\u001b[39;49m]\u001b[39m.\u001b[39mstring\u001b[39m+\u001b[39m\u001b[39m'\u001b[39m\u001b[39m;\u001b[39m\u001b[39m'\u001b[39m)\n\u001b[1;32m     <a href='vscode-notebook-cell:/Users/nils.dyck/Documents/ciaa-data-science-project/Tests/getAllBibliography.ipynb#W3sZmlsZQ%3D%3D?line=65'>66</a>\u001b[0m f\u001b[39m.\u001b[39mwrite(abstract_string)\n\u001b[1;32m     <a href='vscode-notebook-cell:/Users/nils.dyck/Documents/ciaa-data-science-project/Tests/getAllBibliography.ipynb#W3sZmlsZQ%3D%3D?line=66'>67</a>\u001b[0m f\u001b[39m.\u001b[39mwrite(\u001b[39m'\u001b[39m\u001b[39m\\n\u001b[39;00m\u001b[39m'\u001b[39m)\n",
      "\u001b[0;31mIndexError\u001b[0m: list index out of range"
     ]
    }
   ],
   "source": [
    "#creating csv-file\n",
    "\n",
    "#Only use the two following lines if you want to overwrite the exisiting data\n",
    "#with open('collaboration.csv', 'w') as f:\n",
    "#    f.write('Author;Co-Authors;Title;DOI;Date;Publisher Name;Print ISBN;Online ISBN; Abstract\\n')\n",
    "\n",
    "#finding bibliographic information for every paper from the given conference\n",
    "for site in paper_sites:\n",
    "    #finding authors and saving them in a list called 'author_list'\n",
    "    authors = site.find_all(href = re.compile('#auth.*'))\n",
    "    author_list = []\n",
    "    for author in authors:\n",
    "        for string in author.stripped_strings:\n",
    "            #print(repr(string))\n",
    "            author_list.append(string)\n",
    "    #author_list\n",
    "    co_authors = []\n",
    "    for i in range(len(author_list)):\n",
    "        co_authors.append([])\n",
    "        for j in range(len(author_list)):\n",
    "            if i != j:\n",
    "                co_authors[i].append(author_list[j])\n",
    "    #print(co_authors)\n",
    "    co_author_string = []\n",
    "    for k in range(len(co_authors)):\n",
    "        co_author_string.append('')\n",
    "        for l in range(len(co_authors[k])):\n",
    "            co_author_string[k]+= (co_authors[k][l]+', ')\n",
    "        co_author_string[k] = co_author_string[k][:-2]\n",
    "\n",
    "\n",
    "\n",
    "    #finding the abstract and saving it in a string calle 'abstract_string'\n",
    "    abstract = site.find(class_ = 'c-article-section__content')\n",
    "    abstract_string = abstract.find('p')\n",
    "    #Cleaning up the abstract a little bit\n",
    "    abstract_string = str(abstract_string).replace(\";\",\".\") #for the csv-file there must not be any semicola in the abstracts\n",
    "    abstract_string = re.sub(\"<.*?>\",\"\",abstract_string) #no html-tag should survive this action.\n",
    "    abstract_string = abstract_string.replace(\"\\n\",\"\")\n",
    "    #abstract_string\n",
    "\n",
    "    #finding other bibliographic information\n",
    "    bi = site.find_all(class_ = 'c-bibliographic-information__value')\n",
    "    \n",
    "    #finding venue\n",
    "    venue = site.find(class_ = 'c-chapter-book-details right-arrow')\n",
    "    venue = repr(venue.stripped_strings)\n",
    "    #venue\n",
    "\n",
    "    #finding title\n",
    "    title = site.title\n",
    "    title = str(title)\n",
    "    title = title.replace('\\xa0', ' ')\n",
    "    title = re.sub(\"<.*?>\", \"\", title) #no html-tag should survive this action.\n",
    "    title = title.replace(' | SpringerLink', '')\n",
    "    #title\n",
    "\n",
    "    #writing the output-file\n",
    "    with open('collaboration.csv', 'a') as f:\n",
    "        for i in range(len(author_list)):\n",
    "            f.write(author_list[i]+';')\n",
    "            f.write(str(co_author_string[i])+';')#clean form\n",
    "            #f.write(str(co_authors[i])+';')#list form\n",
    "            f.write(title+';')\n",
    "            f.write(bi[0].string+'; '+bi[1].string+'; '+bi[2].string+'; '+bi[3].string+'; '+bi[4].string+';')\n",
    "            f.write(abstract_string)\n",
    "            f.write('\\n')"
   ]
  }
 ],
 "metadata": {
  "kernelspec": {
   "display_name": "Python 3.9.12 ('base')",
   "language": "python",
   "name": "python3"
  },
  "language_info": {
   "codemirror_mode": {
    "name": "ipython",
    "version": 3
   },
   "file_extension": ".py",
   "mimetype": "text/x-python",
   "name": "python",
   "nbconvert_exporter": "python",
   "pygments_lexer": "ipython3",
   "version": "3.9.12"
  },
  "orig_nbformat": 4,
  "vscode": {
   "interpreter": {
    "hash": "d486b63b850724bc6551cda0a2a2678785b3f8f51c1b5738c292f3857cafcf62"
   }
  }
 },
 "nbformat": 4,
 "nbformat_minor": 2
}
