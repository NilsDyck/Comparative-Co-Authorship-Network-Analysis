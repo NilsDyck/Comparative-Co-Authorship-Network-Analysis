{
 "cells": [
  {
   "attachments": {},
   "cell_type": "markdown",
   "metadata": {},
   "source": [
    "# Inspecting the Gruber-Holzer-Rauch Dataset\n",
    "\n",
    "In this notebook we try to reproduce the data given by the paper \"On 25 Years of CIAA Trough the Lens of Data Science\" by Gruber, Holzer and Rauch.\n",
    "\n",
    "###### written by Nils Dyck, 10.02.2023"
   ]
  },
  {
   "cell_type": "code",
   "execution_count": 2,
   "metadata": {},
   "outputs": [
    {
     "data": {
      "text/html": [
       "<div>\n",
       "<style scoped>\n",
       "    .dataframe tbody tr th:only-of-type {\n",
       "        vertical-align: middle;\n",
       "    }\n",
       "\n",
       "    .dataframe tbody tr th {\n",
       "        vertical-align: top;\n",
       "    }\n",
       "\n",
       "    .dataframe thead th {\n",
       "        text-align: right;\n",
       "    }\n",
       "</style>\n",
       "<table border=\"1\" class=\"dataframe\">\n",
       "  <thead>\n",
       "    <tr style=\"text-align: right;\">\n",
       "      <th></th>\n",
       "      <th>Venue</th>\n",
       "      <th>Year</th>\n",
       "      <th>Author</th>\n",
       "      <th>URL</th>\n",
       "      <th>CoAuthorList</th>\n",
       "      <th>Title</th>\n",
       "      <th>Pagination</th>\n",
       "      <th>NoAuthor</th>\n",
       "      <th>AuthorURLs</th>\n",
       "      <th>DOI</th>\n",
       "    </tr>\n",
       "  </thead>\n",
       "  <tbody>\n",
       "    <tr>\n",
       "      <th>0</th>\n",
       "      <td>CIAA</td>\n",
       "      <td>2014</td>\n",
       "      <td>Florin Manea</td>\n",
       "      <td>https://dblp.org/pid/67/4899.html</td>\n",
       "      <td>Marius Dumitran, Javier Gil, Florin Manea, Vic...</td>\n",
       "      <td>Bounded Prefix-Suffix Duplication.</td>\n",
       "      <td>176-187</td>\n",
       "      <td>4</td>\n",
       "      <td>https://dblp.org/pid/147/8451.html,https://dbl...</td>\n",
       "      <td>10.1007/978-3-319-08846-4_13</td>\n",
       "    </tr>\n",
       "    <tr>\n",
       "      <th>1</th>\n",
       "      <td>CIAA</td>\n",
       "      <td>2016</td>\n",
       "      <td>Aleksandrs Belovs</td>\n",
       "      <td>https://dblp.org/pid/24/4309.html</td>\n",
       "      <td>Aleksandrs Belovs, J. Andres Montoya, Abuzer Y...</td>\n",
       "      <td>Looking for Pairs that Hard to Separate: A Qua...</td>\n",
       "      <td>213-223</td>\n",
       "      <td>3</td>\n",
       "      <td>https://dblp.org/pid/24/4309.html,https://dblp...</td>\n",
       "      <td>10.1007/978-3-319-40946-7_18</td>\n",
       "    </tr>\n",
       "    <tr>\n",
       "      <th>2</th>\n",
       "      <td>CIAA</td>\n",
       "      <td>2003</td>\n",
       "      <td>Tadeusz Dobosz</td>\n",
       "      <td>https://dblp.org/pid/53/947.html</td>\n",
       "      <td>Olgierd Unold, Maciej Troc, Tadeusz Dobosz, Al...</td>\n",
       "      <td>Finite-State Molecular Computing.</td>\n",
       "      <td>309-310</td>\n",
       "      <td>4</td>\n",
       "      <td>https://dblp.org/pid/15/3718.html,https://dblp...</td>\n",
       "      <td>10.1007/3-540-45089-0_33</td>\n",
       "    </tr>\n",
       "    <tr>\n",
       "      <th>3</th>\n",
       "      <td>CIAA</td>\n",
       "      <td>2005</td>\n",
       "      <td>Jason Eisner</td>\n",
       "      <td>https://dblp.org/pid/37/3263.html</td>\n",
       "      <td>André Kempe, Jean-Marc Champarnaud, Jason Eisn...</td>\n",
       "      <td>A Class of Rational</td>\n",
       "      <td>188-198</td>\n",
       "      <td>5</td>\n",
       "      <td>https://dblp.org/pid/04/692.html,https://dblp....</td>\n",
       "      <td>10.1007/11605157_16</td>\n",
       "    </tr>\n",
       "    <tr>\n",
       "      <th>4</th>\n",
       "      <td>CIAA</td>\n",
       "      <td>2012</td>\n",
       "      <td>Tullio Ceccherini-Silberstein</td>\n",
       "      <td>https://dblp.org/pid/47/5900.html</td>\n",
       "      <td>Tullio Ceccherini-Silberstein, Michel Coornaer...</td>\n",
       "      <td>Cellular Automata on Regular Rooted Trees.</td>\n",
       "      <td>101-112</td>\n",
       "      <td>4</td>\n",
       "      <td>https://dblp.org/pid/41/6022.html,https://dblp...</td>\n",
       "      <td>10.1007/978-3-642-31606-7_9</td>\n",
       "    </tr>\n",
       "  </tbody>\n",
       "</table>\n",
       "</div>"
      ],
      "text/plain": [
       "  Venue  Year                         Author  \\\n",
       "0  CIAA  2014                   Florin Manea   \n",
       "1  CIAA  2016              Aleksandrs Belovs   \n",
       "2  CIAA  2003                 Tadeusz Dobosz   \n",
       "3  CIAA  2005                   Jason Eisner   \n",
       "4  CIAA  2012  Tullio Ceccherini-Silberstein   \n",
       "\n",
       "                                 URL  \\\n",
       "0  https://dblp.org/pid/67/4899.html   \n",
       "1  https://dblp.org/pid/24/4309.html   \n",
       "2   https://dblp.org/pid/53/947.html   \n",
       "3  https://dblp.org/pid/37/3263.html   \n",
       "4  https://dblp.org/pid/47/5900.html   \n",
       "\n",
       "                                        CoAuthorList  \\\n",
       "0  Marius Dumitran, Javier Gil, Florin Manea, Vic...   \n",
       "1  Aleksandrs Belovs, J. Andres Montoya, Abuzer Y...   \n",
       "2  Olgierd Unold, Maciej Troc, Tadeusz Dobosz, Al...   \n",
       "3  André Kempe, Jean-Marc Champarnaud, Jason Eisn...   \n",
       "4  Tullio Ceccherini-Silberstein, Michel Coornaer...   \n",
       "\n",
       "                                               Title Pagination  NoAuthor  \\\n",
       "0                 Bounded Prefix-Suffix Duplication.    176-187         4   \n",
       "1  Looking for Pairs that Hard to Separate: A Qua...    213-223         3   \n",
       "2                  Finite-State Molecular Computing.    309-310         4   \n",
       "3                               A Class of Rational     188-198         5   \n",
       "4         Cellular Automata on Regular Rooted Trees.    101-112         4   \n",
       "\n",
       "                                          AuthorURLs  \\\n",
       "0  https://dblp.org/pid/147/8451.html,https://dbl...   \n",
       "1  https://dblp.org/pid/24/4309.html,https://dblp...   \n",
       "2  https://dblp.org/pid/15/3718.html,https://dblp...   \n",
       "3  https://dblp.org/pid/04/692.html,https://dblp....   \n",
       "4  https://dblp.org/pid/41/6022.html,https://dblp...   \n",
       "\n",
       "                            DOI  \n",
       "0  10.1007/978-3-319-08846-4_13  \n",
       "1  10.1007/978-3-319-40946-7_18  \n",
       "2      10.1007/3-540-45089-0_33  \n",
       "3           10.1007/11605157_16  \n",
       "4   10.1007/978-3-642-31606-7_9  "
      ]
     },
     "execution_count": 2,
     "metadata": {},
     "output_type": "execute_result"
    }
   ],
   "source": [
    "import pandas as pd\n",
    "\n",
    "data = pd.read_csv('../data/cleaned/gruber-holzer-rauch_dataset.csv', sep=';')\n",
    "data.head()"
   ]
  },
  {
   "attachments": {},
   "cell_type": "markdown",
   "metadata": {},
   "source": [
    "Total number of papers and authors."
   ]
  },
  {
   "cell_type": "code",
   "execution_count": 3,
   "metadata": {},
   "outputs": [
    {
     "data": {
      "text/plain": [
       "687"
      ]
     },
     "execution_count": 3,
     "metadata": {},
     "output_type": "execute_result"
    }
   ],
   "source": [
    "titles = data['Title']\n",
    "title_list = titles.to_list()\n",
    "len(set(title_list))"
   ]
  },
  {
   "cell_type": "code",
   "execution_count": 4,
   "metadata": {},
   "outputs": [
    {
     "data": {
      "text/plain": [
       "839"
      ]
     },
     "execution_count": 4,
     "metadata": {},
     "output_type": "execute_result"
    }
   ],
   "source": [
    "authors = data['Author']\n",
    "author_list = authors.to_list()\n",
    "len(set(author_list))"
   ]
  },
  {
   "attachments": {},
   "cell_type": "markdown",
   "metadata": {},
   "source": [
    "Mean papers per author."
   ]
  },
  {
   "cell_type": "code",
   "execution_count": 5,
   "metadata": {},
   "outputs": [
    {
     "data": {
      "text/plain": [
       "1.8212157330154946"
      ]
     },
     "execution_count": 5,
     "metadata": {},
     "output_type": "execute_result"
    }
   ],
   "source": [
    "author_paper = []\n",
    "mean = []\n",
    "for author in set(author_list):\n",
    "    author_paper.append([author, author_list.count(author)])\n",
    "    mean.append(author_list.count(author))\n",
    "sum(mean)/len(mean)"
   ]
  },
  {
   "attachments": {},
   "cell_type": "markdown",
   "metadata": {},
   "source": [
    "Mean authors per paper."
   ]
  },
  {
   "cell_type": "code",
   "execution_count": 6,
   "metadata": {},
   "outputs": [
    {
     "data": {
      "text/plain": [
       "2.2241630276564774"
      ]
     },
     "execution_count": 6,
     "metadata": {},
     "output_type": "execute_result"
    }
   ],
   "source": [
    "paper_author = []\n",
    "mean = []\n",
    "for paper in (set(title_list)):\n",
    "    paper_author.append([paper, title_list.count(paper)])\n",
    "    mean.append(title_list.count(paper))\n",
    "sum(mean)/len(mean)"
   ]
  },
  {
   "attachments": {},
   "cell_type": "markdown",
   "metadata": {},
   "source": [
    "Mean collaborators per author"
   ]
  },
  {
   "cell_type": "code",
   "execution_count": 21,
   "metadata": {},
   "outputs": [
    {
     "data": {
      "text/plain": [
       "3.5816448152562574"
      ]
     },
     "execution_count": 21,
     "metadata": {},
     "output_type": "execute_result"
    }
   ],
   "source": [
    "author_list = set(author_list)\n",
    "collab_number = []\n",
    "for author in author_list:\n",
    "    thisAuthor = data[data['Author'] == author]\n",
    "    collaborators = set(thisAuthor['CoAuthorList'].to_list())\n",
    "    coAuthors = [string.split(\", \") for string in collaborators]\n",
    "    coAuthors = [element for sublist in coAuthors for element in sublist]\n",
    "    collab_number.append(len(set(coAuthors)))\n",
    "mean = sum(collab_number)/len(collab_number)\n",
    "mean\n"
   ]
  }
 ],
 "metadata": {
  "kernelspec": {
   "display_name": "base",
   "language": "python",
   "name": "python3"
  },
  "language_info": {
   "codemirror_mode": {
    "name": "ipython",
    "version": 3
   },
   "file_extension": ".py",
   "mimetype": "text/x-python",
   "name": "python",
   "nbconvert_exporter": "python",
   "pygments_lexer": "ipython3",
   "version": "3.9.12"
  },
  "orig_nbformat": 4,
  "vscode": {
   "interpreter": {
    "hash": "d486b63b850724bc6551cda0a2a2678785b3f8f51c1b5738c292f3857cafcf62"
   }
  }
 },
 "nbformat": 4,
 "nbformat_minor": 2
}
