{
 "cells": [
  {
   "attachments": {},
   "cell_type": "markdown",
   "metadata": {},
   "source": [
    "# Compare the DATASETS\n",
    "\n",
    "In this notebook we compare the Gruber-Holzer-Rauch dataset with the DATASET to find which entries are missing in our very own one.\n",
    "\n",
    "###### written by Nils Dyck, 09.02.2023"
   ]
  },
  {
   "cell_type": "code",
   "execution_count": 1,
   "metadata": {},
   "outputs": [],
   "source": [
    "import pandas as pd\n",
    "\n",
    "ghr = pd.read_csv('../data/cleaned/gruber-holzer-rauch_dataset.csv', sep=';')\n",
    "ds = pd.read_csv('../data/cleaned/DATASET.csv', sep=';')\n",
    "\n",
    "ghr = ghr[['Author', 'Title']]\n",
    "ds = ds[['Author', 'Title','Venue']]"
   ]
  },
  {
   "attachments": {},
   "cell_type": "markdown",
   "metadata": {},
   "source": [
    "Some testing..."
   ]
  },
  {
   "cell_type": "code",
   "execution_count": 2,
   "metadata": {},
   "outputs": [
    {
     "data": {
      "text/html": [
       "<div>\n",
       "<style scoped>\n",
       "    .dataframe tbody tr th:only-of-type {\n",
       "        vertical-align: middle;\n",
       "    }\n",
       "\n",
       "    .dataframe tbody tr th {\n",
       "        vertical-align: top;\n",
       "    }\n",
       "\n",
       "    .dataframe thead th {\n",
       "        text-align: right;\n",
       "    }\n",
       "</style>\n",
       "<table border=\"1\" class=\"dataframe\">\n",
       "  <thead>\n",
       "    <tr style=\"text-align: right;\">\n",
       "      <th></th>\n",
       "      <th>Author</th>\n",
       "      <th>Title</th>\n",
       "    </tr>\n",
       "  </thead>\n",
       "  <tbody>\n",
       "    <tr>\n",
       "      <th>0</th>\n",
       "      <td>Florin Manea</td>\n",
       "      <td>Bounded Prefix-Suffix Duplication.</td>\n",
       "    </tr>\n",
       "    <tr>\n",
       "      <th>1</th>\n",
       "      <td>Aleksandrs Belovs</td>\n",
       "      <td>Looking for Pairs that Hard to Separate: A Qua...</td>\n",
       "    </tr>\n",
       "    <tr>\n",
       "      <th>2</th>\n",
       "      <td>Tadeusz Dobosz</td>\n",
       "      <td>Finite-State Molecular Computing.</td>\n",
       "    </tr>\n",
       "    <tr>\n",
       "      <th>3</th>\n",
       "      <td>Jason Eisner</td>\n",
       "      <td>A Class of Rational</td>\n",
       "    </tr>\n",
       "    <tr>\n",
       "      <th>4</th>\n",
       "      <td>Tullio Ceccherini-Silberstein</td>\n",
       "      <td>Cellular Automata on Regular Rooted Trees.</td>\n",
       "    </tr>\n",
       "  </tbody>\n",
       "</table>\n",
       "</div>"
      ],
      "text/plain": [
       "                          Author  \\\n",
       "0                   Florin Manea   \n",
       "1              Aleksandrs Belovs   \n",
       "2                 Tadeusz Dobosz   \n",
       "3                   Jason Eisner   \n",
       "4  Tullio Ceccherini-Silberstein   \n",
       "\n",
       "                                               Title  \n",
       "0                 Bounded Prefix-Suffix Duplication.  \n",
       "1  Looking for Pairs that Hard to Separate: A Qua...  \n",
       "2                  Finite-State Molecular Computing.  \n",
       "3                               A Class of Rational   \n",
       "4         Cellular Automata on Regular Rooted Trees.  "
      ]
     },
     "execution_count": 2,
     "metadata": {},
     "output_type": "execute_result"
    }
   ],
   "source": [
    "ghr.head()"
   ]
  },
  {
   "cell_type": "code",
   "execution_count": 3,
   "metadata": {},
   "outputs": [
    {
     "data": {
      "text/html": [
       "<div>\n",
       "<style scoped>\n",
       "    .dataframe tbody tr th:only-of-type {\n",
       "        vertical-align: middle;\n",
       "    }\n",
       "\n",
       "    .dataframe tbody tr th {\n",
       "        vertical-align: top;\n",
       "    }\n",
       "\n",
       "    .dataframe thead th {\n",
       "        text-align: right;\n",
       "    }\n",
       "</style>\n",
       "<table border=\"1\" class=\"dataframe\">\n",
       "  <thead>\n",
       "    <tr style=\"text-align: right;\">\n",
       "      <th></th>\n",
       "      <th>Author</th>\n",
       "      <th>Title</th>\n",
       "      <th>Venue</th>\n",
       "    </tr>\n",
       "  </thead>\n",
       "  <tbody>\n",
       "    <tr>\n",
       "      <th>225</th>\n",
       "      <td>B. Sundar Rajan</td>\n",
       "      <td>A Package for the Implementation of Block Code...</td>\n",
       "      <td>'CIAA'</td>\n",
       "    </tr>\n",
       "    <tr>\n",
       "      <th>232</th>\n",
       "      <td>Claudia Cauli</td>\n",
       "      <td>Equivalence of Probabilistic \\\\mu -Calculus an...</td>\n",
       "      <td>'CIAA'</td>\n",
       "    </tr>\n",
       "    <tr>\n",
       "      <th>235</th>\n",
       "      <td>Christiane Frougny</td>\n",
       "      <td>On Lazy Representations and Sturmian Graphs.</td>\n",
       "      <td>'CIAA'</td>\n",
       "    </tr>\n",
       "    <tr>\n",
       "      <th>272</th>\n",
       "      <td>Giuseppe Perelli</td>\n",
       "      <td>Solving Parity Games Using an Automata-Based A...</td>\n",
       "      <td>'CIAA'</td>\n",
       "    </tr>\n",
       "    <tr>\n",
       "      <th>288</th>\n",
       "      <td>Ayon Sen</td>\n",
       "      <td>On Palindromic Sequence Automata and Applicati...</td>\n",
       "      <td>'CIAA'</td>\n",
       "    </tr>\n",
       "  </tbody>\n",
       "</table>\n",
       "</div>"
      ],
      "text/plain": [
       "                 Author                                              Title  \\\n",
       "225     B. Sundar Rajan  A Package for the Implementation of Block Code...   \n",
       "232       Claudia Cauli  Equivalence of Probabilistic \\\\mu -Calculus an...   \n",
       "235  Christiane Frougny       On Lazy Representations and Sturmian Graphs.   \n",
       "272    Giuseppe Perelli  Solving Parity Games Using an Automata-Based A...   \n",
       "288            Ayon Sen  On Palindromic Sequence Automata and Applicati...   \n",
       "\n",
       "      Venue  \n",
       "225  'CIAA'  \n",
       "232  'CIAA'  \n",
       "235  'CIAA'  \n",
       "272  'CIAA'  \n",
       "288  'CIAA'  "
      ]
     },
     "execution_count": 3,
     "metadata": {},
     "output_type": "execute_result"
    }
   ],
   "source": [
    "ds = ds[ds.Venue == \"'CIAA'\"]\n",
    "ds.head()"
   ]
  },
  {
   "cell_type": "code",
   "execution_count": 4,
   "metadata": {},
   "outputs": [
    {
     "data": {
      "text/html": [
       "<div>\n",
       "<style scoped>\n",
       "    .dataframe tbody tr th:only-of-type {\n",
       "        vertical-align: middle;\n",
       "    }\n",
       "\n",
       "    .dataframe tbody tr th {\n",
       "        vertical-align: top;\n",
       "    }\n",
       "\n",
       "    .dataframe thead th {\n",
       "        text-align: right;\n",
       "    }\n",
       "</style>\n",
       "<table border=\"1\" class=\"dataframe\">\n",
       "  <thead>\n",
       "    <tr style=\"text-align: right;\">\n",
       "      <th></th>\n",
       "      <th>Author</th>\n",
       "      <th>Title</th>\n",
       "    </tr>\n",
       "  </thead>\n",
       "  <tbody>\n",
       "    <tr>\n",
       "      <th>225</th>\n",
       "      <td>B. Sundar Rajan</td>\n",
       "      <td>A Package for the Implementation of Block Code...</td>\n",
       "    </tr>\n",
       "    <tr>\n",
       "      <th>232</th>\n",
       "      <td>Claudia Cauli</td>\n",
       "      <td>Equivalence of Probabilistic \\\\mu -Calculus an...</td>\n",
       "    </tr>\n",
       "    <tr>\n",
       "      <th>235</th>\n",
       "      <td>Christiane Frougny</td>\n",
       "      <td>On Lazy Representations and Sturmian Graphs.</td>\n",
       "    </tr>\n",
       "    <tr>\n",
       "      <th>272</th>\n",
       "      <td>Giuseppe Perelli</td>\n",
       "      <td>Solving Parity Games Using an Automata-Based A...</td>\n",
       "    </tr>\n",
       "    <tr>\n",
       "      <th>288</th>\n",
       "      <td>Ayon Sen</td>\n",
       "      <td>On Palindromic Sequence Automata and Applicati...</td>\n",
       "    </tr>\n",
       "  </tbody>\n",
       "</table>\n",
       "</div>"
      ],
      "text/plain": [
       "                 Author                                              Title\n",
       "225     B. Sundar Rajan  A Package for the Implementation of Block Code...\n",
       "232       Claudia Cauli  Equivalence of Probabilistic \\\\mu -Calculus an...\n",
       "235  Christiane Frougny       On Lazy Representations and Sturmian Graphs.\n",
       "272    Giuseppe Perelli  Solving Parity Games Using an Automata-Based A...\n",
       "288            Ayon Sen  On Palindromic Sequence Automata and Applicati..."
      ]
     },
     "execution_count": 4,
     "metadata": {},
     "output_type": "execute_result"
    }
   ],
   "source": [
    "ds = ds[['Author', 'Title']]\n",
    "ds.to_csv('../data/cleaned/CIAA-CIAA_42.csv', sep=';')\n",
    "ds.head()"
   ]
  },
  {
   "attachments": {},
   "cell_type": "markdown",
   "metadata": {},
   "source": [
    "Make a dataframe that describes the differences between ghr an ds."
   ]
  },
  {
   "cell_type": "code",
   "execution_count": 5,
   "metadata": {},
   "outputs": [],
   "source": [
    "differences = pd.merge(ghr, ds, how='outer', indicator='Exist')\n",
    "differences.to_csv('../data/cleaned/differences.csv', sep=';')\n"
   ]
  },
  {
   "attachments": {},
   "cell_type": "markdown",
   "metadata": {},
   "source": [
    "Which entries are missing in ds?"
   ]
  },
  {
   "cell_type": "code",
   "execution_count": 6,
   "metadata": {},
   "outputs": [
    {
     "data": {
      "text/plain": [
       "765"
      ]
     },
     "execution_count": 6,
     "metadata": {},
     "output_type": "execute_result"
    }
   ],
   "source": [
    "ghr_missing = differences[differences.Exist == 'left_only']\n",
    "ghr_missing.to_csv('../data/cleaned/ghr_missing.csv', sep=';')\n",
    "ghr_missing.size"
   ]
  },
  {
   "attachments": {},
   "cell_type": "markdown",
   "metadata": {},
   "source": [
    "Which entries are missing in ghr?"
   ]
  },
  {
   "cell_type": "code",
   "execution_count": 7,
   "metadata": {},
   "outputs": [
    {
     "data": {
      "text/plain": [
       "540"
      ]
     },
     "execution_count": 7,
     "metadata": {},
     "output_type": "execute_result"
    }
   ],
   "source": [
    "ds_missing = differences[differences.Exist == 'right_only']\n",
    "ds_missing.to_csv('../data/cleaned/ds_missing.csv', sep=';')\n",
    "ds_missing.size"
   ]
  },
  {
   "attachments": {},
   "cell_type": "markdown",
   "metadata": {},
   "source": [
    "Which entries are in both dataframes?"
   ]
  },
  {
   "cell_type": "code",
   "execution_count": 8,
   "metadata": {},
   "outputs": [
    {
     "data": {
      "text/plain": [
       "3846"
      ]
     },
     "execution_count": 8,
     "metadata": {},
     "output_type": "execute_result"
    }
   ],
   "source": [
    "both = differences[differences.Exist == 'both']\n",
    "both.size"
   ]
  },
  {
   "cell_type": "code",
   "execution_count": 16,
   "metadata": {},
   "outputs": [
    {
     "data": {
      "text/plain": [
       "['An O(n',\n",
       " 'An Algorithm to Verify Local Threshold Testability of Deterministic Finite Automata.',\n",
       " 'Dynamical Implementation of Nondeterministic Automata and Concurrent Systems.',\n",
       " 'Building Automata on Schemata and Acceptability Tables: Application to French Data Adverbials.',\n",
       " \"Around Hopcroft's Algorithm.\",\n",
       " 'Efficient Implementation of Regular Languages Using R-AFA.',\n",
       " 'A New Quadratic Algorithm to Convert a Regular Expression into an Automaton.',\n",
       " 'FA Minimisation Heuristics for a Class of Finite Languages.',\n",
       " 'Analysis of Reactive Systems with n Timers.',\n",
       " 'Minimal Separating Sets for Muller Automata.',\n",
       " 'Automata and Binary Decision Diagrams.',\n",
       " 'State Complexity of Basic Operations on Finite Languages.',\n",
       " \"Antimirov and Mosses's Rewrite System Revisited.\",\n",
       " \"Brzozowski's Derivatives Extended to Multiplicities.\",\n",
       " 'The Syntactic Prediction with Token Automata: Application to HandiAS System.',\n",
       " 'Treatment of Unknown Words.',\n",
       " 'Pseudo-minimal Transducers: A Transducer with Proper Elements.',\n",
       " 'Practical Optimizations for Automata.',\n",
       " 'Automata to Recognize Finite and Infinite Words with at Least Two Factorizations on a Given Finite Set.',\n",
       " 'A Rational Design for a Weighted Finite-State Transducer Library.',\n",
       " 'Bi-directional Automata to Extract Complex Phrases from Texts.',\n",
       " 'Finite Automata Encoding Geometric Figures.',\n",
       " 'Construction of Efficient Generalized LR Parsers.',\n",
       " 'Computing Entropy Maps of Finite-Automaton-Encoded Binary Images.',\n",
       " 'FSA Utilities: A Toolbox to Manipulate Finite-State Automata.',\n",
       " \"Nondeterministic Moore Automata and Brzozowski's Algorithm.\",\n",
       " 'Paging Automata.',\n",
       " 'Implementation of Nondeterministic Finite Automata for Approximate Pattern Matching.',\n",
       " 'Proving Sequential Function Chart Programs Using Automata.',\n",
       " 'SEA: A Symbolic Environment for Automata Theory.',\n",
       " 'Thompson Digraphs: A Characterization.',\n",
       " 'A Precise Estimation of the Order of Local Testability of a Deterministic Finite Automaton.',\n",
       " 'Teaching Theory of Computation with Tape Machines.',\n",
       " 'An Extendible Regular Expression Compiler for Finite-State Approaches in Natural Language Processing.',\n",
       " 'WIA and Theory and Practice.',\n",
       " 'An Efficient Null-Free Procedure for Deciding Regular Language Membership.',\n",
       " 'A Structural Method for Output Compaction of Sequential Automata Implemented as Circuits.',\n",
       " 'The Automata Theory Package ',\n",
       " 'FIRE Lite: FAs and REs in C++.',\n",
       " 'Time Series Forecasting by Finite-State Automata.',\n",
       " 'Integrating Hands-on Work into the Formal Languages Course via Tools and Programming.',\n",
       " 'Algorithms for Guided Tree Automata.',\n",
       " 'Determinization of Glushkov Automata.',\n",
       " 'Operations over Automata with Multiplicities.',\n",
       " 'Tools to Implement Automata, a First Step: ASTL.',\n",
       " 'INTEX: An Integrated FST Toolbox.',\n",
       " 'On the Conjecture ℒ',\n",
       " 'Minimal Cover-Automata for Finite Languages.',\n",
       " \"Brzozowski's Minimization Algorithm - More Robust than Expected - (Extended Abstract).\",\n",
       " \"State Complexity and Jacobsthal's Function.\",\n",
       " 'On the Syntax, Semantics, and Implementation of a Graph-Based Computational Environment.',\n",
       " 'Autographe: A Graphical Version of Automate.',\n",
       " 'Implementing WS1S via Finite Automata.',\n",
       " 'How to Use Sorting Procedures to Minimize DFA.',\n",
       " 'Instruction Computation in Subset Construction.',\n",
       " 'Towards a Meta-Normal Form Algorithm for Context-Free Grammars.',\n",
       " \"On the Implementation of Compact DAWG's.\",\n",
       " 'LANGAGE: A Maple Package for Automaton Characterization of Regular Languages.',\n",
       " 'A Taxonomy of Algorithms for Constructing Minimal Acyclic Deterministic Finite Automata.',\n",
       " 'On-the-Fly Stuttering in the Construction of Deterministic ',\n",
       " 'Visualization of Dynamic Automata Using Padnon.',\n",
       " 'Implementing Sequential and Parallel Programs for the Homing Sequence Problem.',\n",
       " 'Compressed Storage of Sparse Finite-State Transducers.',\n",
       " 'Automata of Asynchronous Behaviors.',\n",
       " \"On Extremal Cases of Hopcroft's Algorithm.\",\n",
       " 'Metric Lexical Analysis.',\n",
       " 'Automata and Computational Probabilities.',\n",
       " 'Implementing WS1S via Finite Automata: Performance Issues.',\n",
       " 'Multi-tape Automata for Speech and Language Systems: A Prolog Implementation.',\n",
       " 'NFA to DFA Transformation for Finite Languages.',\n",
       " 'In Vitro Implementation of Finite-State Machines.',\n",
       " 'INTEX 4.1 for Windows: A Walkthrough.',\n",
       " 'A Fast New Semi-incremental Algorithm for the Construction of Minimal Acyclic DFAs.',\n",
       " 'Sorting and Doubling Techniques for Set Partitioning and Automata Minimization Problems.',\n",
       " 'Operations on Extended Automata.',\n",
       " 'On Parsing LL-Languages.',\n",
       " \"Hopcroft's Minimization Technique: Queues or Stacks?.\",\n",
       " 'On Parsing and Condensing Substrings of LR Languages in Linear Time.',\n",
       " \"LALBLC A Program Testing the Equivalence of dpda's.\",\n",
       " 'Path-Equivalent Removals of ',\n",
       " 'Crossing the Syntactic Barrier: Hom-Disequalities for H',\n",
       " 'Multiset Processing by Means of Systems of Finite State Transducers.',\n",
       " 'Operations on DASG.',\n",
       " 'Extended Context-Free Grammars and Normal Form Algorithms.',\n",
       " \"Compressing Regular Expressions' DFA Table by Matrix Decomposition.\",\n",
       " 'Equivalence of Probabilistic \\\\mu -Calculus and p-Automata.',\n",
       " \"Implicit Structures to Implement NFA's from Regular Expressions.\",\n",
       " 'Using Acceptors as Transducers.',\n",
       " \"The Finite State Automata's Design Patterns.\",\n",
       " 'A Class of Rational ',\n",
       " \"On the Complexity of Hopcroft's State Minimization Algorithm.\",\n",
       " 'Animation of the Generation and Computation of Finite Automata for Learning Software.',\n",
       " 'Implementing Reversed Alternating Finite Automaton (r-AFA) Operations.',\n",
       " 'WIA and the Practice of Theory in Computer Science.']"
      ]
     },
     "execution_count": 16,
     "metadata": {},
     "output_type": "execute_result"
    }
   ],
   "source": [
    "ds_titles = set(ds['Title'].tolist())\n",
    "ghr_titles = set(ghr['Title'].tolist())\n",
    "\n",
    "missing = [title for title in ghr_titles if title not in ds_titles ]\n",
    "len(missing)\n",
    "missing"
   ]
  }
 ],
 "metadata": {
  "kernelspec": {
   "display_name": "base",
   "language": "python",
   "name": "python3"
  },
  "language_info": {
   "codemirror_mode": {
    "name": "ipython",
    "version": 3
   },
   "file_extension": ".py",
   "mimetype": "text/x-python",
   "name": "python",
   "nbconvert_exporter": "python",
   "pygments_lexer": "ipython3",
   "version": "3.9.12"
  },
  "orig_nbformat": 4,
  "vscode": {
   "interpreter": {
    "hash": "d486b63b850724bc6551cda0a2a2678785b3f8f51c1b5738c292f3857cafcf62"
   }
  }
 },
 "nbformat": 4,
 "nbformat_minor": 2
}
