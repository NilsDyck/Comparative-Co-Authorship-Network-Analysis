{
 "cells": [
  {
   "cell_type": "code",
   "execution_count": 1,
   "metadata": {},
   "outputs": [
    {
     "name": "stdout",
     "output_type": "stream",
     "text": [
      "24500\n"
     ]
    },
    {
     "data": {
      "text/plain": [
       "23828"
      ]
     },
     "execution_count": 1,
     "metadata": {},
     "output_type": "execute_result"
    }
   ],
   "source": [
    "import pandas as pd\n",
    "\n",
    "data = pd.read_csv('../data/cleaned/DATASET.csv', sep=';')\n",
    "\n",
    "co_authors = data['Co-Authors'].to_list()\n",
    "\n",
    "authors = []\n",
    "for entry in co_authors:\n",
    "    new_co_authors = entry.split(',')\n",
    "    for new in new_co_authors:\n",
    "        authors.append(new)\n",
    "\n",
    "authors = set(authors)\n",
    "\n",
    "print(len(authors))\n",
    "\n",
    "titles = data['Title'].drop_duplicates()\n",
    "len(titles)\n"
   ]
  },
  {
   "cell_type": "markdown",
   "metadata": {},
   "source": [
    "At first we compute the mean number of papers per author."
   ]
  },
  {
   "cell_type": "code",
   "execution_count": 2,
   "metadata": {},
   "outputs": [],
   "source": [
    "#create a dictionary of authors with their number of papers\n",
    "authors_dup = data['Author'].to_list()\n",
    "authors = data['Author'].drop_duplicates().to_list()\n",
    "dict = {}\n",
    "for author in authors:\n",
    "    count = authors_dup.count(author)\n",
    "    dict[author] = count\n",
    "\n",
    "#compute mean\n",
    "sum = 0\n",
    "for value in dict.values():\n",
    "    sum += value\n",
    "mean = sum/len(dict)\n"
   ]
  },
  {
   "cell_type": "markdown",
   "metadata": {},
   "source": [
    "Now we compute the mean number of authors per paper."
   ]
  },
  {
   "cell_type": "code",
   "execution_count": 26,
   "metadata": {},
   "outputs": [
    {
     "name": "stdout",
     "output_type": "stream",
     "text": [
      "3.37015824530143\n"
     ]
    }
   ],
   "source": [
    "from statistics import mean\n",
    "\n",
    "no_dup = data[['Title', 'Co-Authors']].drop_duplicates(subset='Title')\n",
    "co_authors = no_dup['Co-Authors'].to_list()\n",
    "co_authors = [string.replace(', ',',') for string in co_authors]\n",
    "author_lists = [string.split(',') for string in co_authors]\n",
    "#print(author_lists)\n",
    "collaborators = [len(list) for list in author_lists]\n",
    "print(mean(collaborators))\n"
   ]
  },
  {
   "cell_type": "markdown",
   "metadata": {},
   "source": [
    "Furthermore we compute the mean number of collaborators per author."
   ]
  },
  {
   "cell_type": "code",
   "execution_count": 42,
   "metadata": {},
   "outputs": [
    {
     "name": "stdout",
     "output_type": "stream",
     "text": [
      "39.863060989643266\n",
      "Alois C. Knoll\n",
      "863\n"
     ]
    }
   ],
   "source": [
    "#At this point we actually should use the authors urls which is not possible yet.\n",
    "\n",
    "#create a dictionary with each author and his number if co-workers\n",
    "uthors = data['Author'].drop_duplicates().to_list()\n",
    "coll_per_author = {}\n",
    "for author in authors:\n",
    "    frame = data[data.Author == author]\n",
    "    lists = frame['Co-Authors'].to_list()\n",
    "    lists = [string.split(',') for string in lists]\n",
    "    coll_author = []\n",
    "    for list in lists:\n",
    "        for entry in list:\n",
    "            coll_author.append(entry)\n",
    "    coll_author = set(coll_author)\n",
    "    coll_per_author[author] = len(coll_author)-1\n",
    "#print(coll_per_author)\n",
    "\n",
    "#compute mean\n",
    "sum = 0\n",
    "for value in coll_per_author.values():\n",
    "    sum += value\n",
    "mean = sum/len(coll_per_author)\n",
    "\n",
    "#find maximum value and its key\n",
    "max_key = max(coll_per_author, key=coll_per_author.get)\n",
    "max_value = max(coll_per_author.values())\n",
    "\n",
    "#print out results\n",
    "print(mean)\n",
    "print(max_key)\n",
    "print(max_value)"
   ]
  },
  {
   "cell_type": "code",
   "execution_count": null,
   "metadata": {},
   "outputs": [],
   "source": []
  }
 ],
 "metadata": {
  "kernelspec": {
   "display_name": "Python 3.9.12 ('base')",
   "language": "python",
   "name": "python3"
  },
  "language_info": {
   "codemirror_mode": {
    "name": "ipython",
    "version": 3
   },
   "file_extension": ".py",
   "mimetype": "text/x-python",
   "name": "python",
   "nbconvert_exporter": "python",
   "pygments_lexer": "ipython3",
   "version": "3.9.12"
  },
  "orig_nbformat": 4,
  "vscode": {
   "interpreter": {
    "hash": "d486b63b850724bc6551cda0a2a2678785b3f8f51c1b5738c292f3857cafcf62"
   }
  }
 },
 "nbformat": 4,
 "nbformat_minor": 2
}
