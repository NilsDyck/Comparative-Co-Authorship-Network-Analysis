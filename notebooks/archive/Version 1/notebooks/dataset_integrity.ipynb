{
 "cells": [
  {
   "cell_type": "markdown",
   "metadata": {},
   "source": [
    "# Dataset Integrity\n",
    "I observe the three datasets and compare the CIAA-CIAA datasets with each other.\n",
    "\n",
    "###### written by Nils Dyck, 15.11.2022"
   ]
  },
  {
   "cell_type": "code",
   "execution_count": 16,
   "metadata": {},
   "outputs": [
    {
     "data": {
      "text/html": [
       "<div>\n",
       "<style scoped>\n",
       "    .dataframe tbody tr th:only-of-type {\n",
       "        vertical-align: middle;\n",
       "    }\n",
       "\n",
       "    .dataframe tbody tr th {\n",
       "        vertical-align: top;\n",
       "    }\n",
       "\n",
       "    .dataframe thead th {\n",
       "        text-align: right;\n",
       "    }\n",
       "</style>\n",
       "<table border=\"1\" class=\"dataframe\">\n",
       "  <thead>\n",
       "    <tr style=\"text-align: right;\">\n",
       "      <th></th>\n",
       "      <th>Author</th>\n",
       "      <th>Title</th>\n",
       "      <th>Co-Authors</th>\n",
       "      <th>Pagination</th>\n",
       "      <th>Published</th>\n",
       "      <th>Venue</th>\n",
       "    </tr>\n",
       "  </thead>\n",
       "  <tbody>\n",
       "    <tr>\n",
       "      <th>0</th>\n",
       "      <td>Yuan Gao</td>\n",
       "      <td>In Memoriam Sheng Yu.</td>\n",
       "      <td>Kai Salomaa</td>\n",
       "      <td>1-4</td>\n",
       "      <td>2012</td>\n",
       "      <td>CIAA 2012</td>\n",
       "    </tr>\n",
       "    <tr>\n",
       "      <th>1</th>\n",
       "      <td>Kai Salomaa</td>\n",
       "      <td>In Memoriam Sheng Yu.</td>\n",
       "      <td>Yuan Gao</td>\n",
       "      <td>1-4</td>\n",
       "      <td>2012</td>\n",
       "      <td>CIAA 2012</td>\n",
       "    </tr>\n",
       "    <tr>\n",
       "      <th>2</th>\n",
       "      <td>Janusz A. Brzozowski</td>\n",
       "      <td>In Search of Most Complex Regular Languages.</td>\n",
       "      <td>NaN</td>\n",
       "      <td>5-24</td>\n",
       "      <td>2012</td>\n",
       "      <td>CIAA 2012</td>\n",
       "    </tr>\n",
       "    <tr>\n",
       "      <th>3</th>\n",
       "      <td>Andrzej Ehrenfeucht</td>\n",
       "      <td>A Formal Framework for Processes Inspired by t...</td>\n",
       "      <td>Grzegorz Rozenberg</td>\n",
       "      <td>25-27</td>\n",
       "      <td>2012</td>\n",
       "      <td>CIAA 2012</td>\n",
       "    </tr>\n",
       "    <tr>\n",
       "      <th>4</th>\n",
       "      <td>Grzegorz Rozenberg</td>\n",
       "      <td>A Formal Framework for Processes Inspired by t...</td>\n",
       "      <td>Andrzej Ehrenfeucht</td>\n",
       "      <td>25-27</td>\n",
       "      <td>2012</td>\n",
       "      <td>CIAA 2012</td>\n",
       "    </tr>\n",
       "  </tbody>\n",
       "</table>\n",
       "</div>"
      ],
      "text/plain": [
       "                 Author                                              Title  \\\n",
       "0              Yuan Gao                              In Memoriam Sheng Yu.   \n",
       "1           Kai Salomaa                              In Memoriam Sheng Yu.   \n",
       "2  Janusz A. Brzozowski       In Search of Most Complex Regular Languages.   \n",
       "3   Andrzej Ehrenfeucht  A Formal Framework for Processes Inspired by t...   \n",
       "4    Grzegorz Rozenberg  A Formal Framework for Processes Inspired by t...   \n",
       "\n",
       "            Co-Authors Pagination  Published      Venue  \n",
       "0          Kai Salomaa        1-4       2012  CIAA 2012  \n",
       "1             Yuan Gao        1-4       2012  CIAA 2012  \n",
       "2                  NaN       5-24       2012  CIAA 2012  \n",
       "3   Grzegorz Rozenberg      25-27       2012  CIAA 2012  \n",
       "4  Andrzej Ehrenfeucht      25-27       2012  CIAA 2012  "
      ]
     },
     "execution_count": 16,
     "metadata": {},
     "output_type": "execute_result"
    }
   ],
   "source": [
    "import pandas as pd\n",
    "\n",
    "sep_parameter = ';'\n",
    "default = pd.read_csv('../data/cleaned/gruber-holzer-rauch_dataset.csv', sep=sep_parameter)\n",
    "ciaa_ciaa = pd.read_csv('../data/cleaned/CIAA-CIAA.csv', sep=sep_parameter)\n",
    "dcfs_dcfs = pd.read_csv('../data/cleaned/DCFS-DCFS.csv', sep=sep_parameter)\n",
    "dlt_dlt = pd.read_csv('../data/cleaned/DLT-DLT.csv', sep=sep_parameter)\n",
    "\n",
    "ciaa_ciaa.head()"
   ]
  },
  {
   "cell_type": "markdown",
   "metadata": {},
   "source": [
    "## Compare CIAA and Default"
   ]
  },
  {
   "cell_type": "code",
   "execution_count": 17,
   "metadata": {},
   "outputs": [],
   "source": [
    "default_titles = default['Title'].to_list()\n",
    "ciaa_titles = ciaa_ciaa['Title'].to_list()\n",
    "\n",
    "default_titles = set(default_titles)\n",
    "ciaa_titles = set(ciaa_titles)"
   ]
  },
  {
   "cell_type": "code",
   "execution_count": 18,
   "metadata": {},
   "outputs": [
    {
     "name": "stdout",
     "output_type": "stream",
     "text": [
      "687\n",
      "700\n"
     ]
    }
   ],
   "source": [
    "print(len(default_titles))\n",
    "print(len(ciaa_titles))"
   ]
  },
  {
   "cell_type": "code",
   "execution_count": 19,
   "metadata": {},
   "outputs": [
    {
     "name": "stderr",
     "output_type": "stream",
     "text": [
      "/var/folders/68/zr6z7wd56pl2hspyj9v4d57m0000gn/T/ipykernel_50978/588445184.py:3: UserWarning: Boolean Series key will be reindexed to match DataFrame index.\n",
      "  ciaa_entries_without2022 = ciaa_entries[ciaa_ciaa.Published != 2022]\n"
     ]
    },
    {
     "data": {
      "text/html": [
       "<div>\n",
       "<style scoped>\n",
       "    .dataframe tbody tr th:only-of-type {\n",
       "        vertical-align: middle;\n",
       "    }\n",
       "\n",
       "    .dataframe tbody tr th {\n",
       "        vertical-align: top;\n",
       "    }\n",
       "\n",
       "    .dataframe thead th {\n",
       "        text-align: right;\n",
       "    }\n",
       "</style>\n",
       "<table border=\"1\" class=\"dataframe\">\n",
       "  <thead>\n",
       "    <tr style=\"text-align: right;\">\n",
       "      <th></th>\n",
       "      <th>Title</th>\n",
       "      <th>Published</th>\n",
       "      <th>Venue</th>\n",
       "    </tr>\n",
       "  </thead>\n",
       "  <tbody>\n",
       "    <tr>\n",
       "      <th>0</th>\n",
       "      <td>In Memoriam Sheng Yu.</td>\n",
       "      <td>2012</td>\n",
       "      <td>CIAA 2012</td>\n",
       "    </tr>\n",
       "    <tr>\n",
       "      <th>2</th>\n",
       "      <td>In Search of Most Complex Regular Languages.</td>\n",
       "      <td>2012</td>\n",
       "      <td>CIAA 2012</td>\n",
       "    </tr>\n",
       "    <tr>\n",
       "      <th>3</th>\n",
       "      <td>A Formal Framework for Processes Inspired by t...</td>\n",
       "      <td>2012</td>\n",
       "      <td>CIAA 2012</td>\n",
       "    </tr>\n",
       "    <tr>\n",
       "      <th>5</th>\n",
       "      <td>Adding Pebbles to Weighted Automata.</td>\n",
       "      <td>2012</td>\n",
       "      <td>CIAA 2012</td>\n",
       "    </tr>\n",
       "    <tr>\n",
       "      <th>7</th>\n",
       "      <td>Typed Linear Algebra for Weigthed (Probabilist...</td>\n",
       "      <td>2012</td>\n",
       "      <td>CIAA 2012</td>\n",
       "    </tr>\n",
       "    <tr>\n",
       "      <th>...</th>\n",
       "      <td>...</td>\n",
       "      <td>...</td>\n",
       "      <td>...</td>\n",
       "    </tr>\n",
       "    <tr>\n",
       "      <th>1565</th>\n",
       "      <td>The Constrained Longest Common Subsequence Pro...</td>\n",
       "      <td>2007</td>\n",
       "      <td>CIAA 2007</td>\n",
       "    </tr>\n",
       "    <tr>\n",
       "      <th>1569</th>\n",
       "      <td>Finite Automata Accepting Star-Connected Langu...</td>\n",
       "      <td>2007</td>\n",
       "      <td>CIAA 2007</td>\n",
       "    </tr>\n",
       "    <tr>\n",
       "      <th>1570</th>\n",
       "      <td>Efficiently Matching with Local Grammars Using...</td>\n",
       "      <td>2007</td>\n",
       "      <td>CIAA 2007</td>\n",
       "    </tr>\n",
       "    <tr>\n",
       "      <th>1571</th>\n",
       "      <td>Significant Subpatterns Matching.</td>\n",
       "      <td>2007</td>\n",
       "      <td>CIAA 2007</td>\n",
       "    </tr>\n",
       "    <tr>\n",
       "      <th>1572</th>\n",
       "      <td>A New Method for Compiling Parallel Replacemen...</td>\n",
       "      <td>2007</td>\n",
       "      <td>CIAA 2007</td>\n",
       "    </tr>\n",
       "  </tbody>\n",
       "</table>\n",
       "<p>707 rows × 3 columns</p>\n",
       "</div>"
      ],
      "text/plain": [
       "                                                  Title  Published      Venue\n",
       "0                                 In Memoriam Sheng Yu.       2012  CIAA 2012\n",
       "2          In Search of Most Complex Regular Languages.       2012  CIAA 2012\n",
       "3     A Formal Framework for Processes Inspired by t...       2012  CIAA 2012\n",
       "5                  Adding Pebbles to Weighted Automata.       2012  CIAA 2012\n",
       "7     Typed Linear Algebra for Weigthed (Probabilist...       2012  CIAA 2012\n",
       "...                                                 ...        ...        ...\n",
       "1565  The Constrained Longest Common Subsequence Pro...       2007  CIAA 2007\n",
       "1569  Finite Automata Accepting Star-Connected Langu...       2007  CIAA 2007\n",
       "1570  Efficiently Matching with Local Grammars Using...       2007  CIAA 2007\n",
       "1571                  Significant Subpatterns Matching.       2007  CIAA 2007\n",
       "1572  A New Method for Compiling Parallel Replacemen...       2007  CIAA 2007\n",
       "\n",
       "[707 rows x 3 columns]"
      ]
     },
     "execution_count": 19,
     "metadata": {},
     "output_type": "execute_result"
    }
   ],
   "source": [
    "ciaa_entries = ciaa_ciaa[['Title', 'Published', 'Venue']]\n",
    "ciaa_entries = ciaa_entries.drop_duplicates()\n",
    "ciaa_entries_without2022 = ciaa_entries[ciaa_ciaa.Published != 2022]\n",
    "ciaa_entries"
   ]
  },
  {
   "cell_type": "markdown",
   "metadata": {},
   "source": [
    "The following numbers were collected \"by hand\". As you can see they match the results from the default and the \"ciaa-ciaa_dataset\"-script.\n",
    "\n",
    "| Year | Papers | Authors |\n",
    "| --- | --- | --- |\n",
    "| 2022 | 19\n",
    "| 2021 | 15\n",
    "| 2020 | -\n",
    "| 2019 | 19\n",
    "| 2018 | 27\n",
    "| 2017 | 20\n",
    "| 2016 | 27\n",
    "| 2015 | 26\n",
    "| 2014 | 25\n",
    "| 2013 | 31\n",
    "| 2012 | 33\n",
    "| 2011 | 27\n",
    "| 2010 | 34\n",
    "| 2009 | 32\n",
    "| 2008 | 30\n",
    "| 2007 | 34\n",
    "| 2006 | 32\n",
    "| 2005 | 36\n",
    "| 2004 | 41\n",
    "| 2003 | 33\n",
    "| 2002 | 33\n",
    "| 2001 | 24\n",
    "| 2000 | 35\n",
    "| 1999 | 16\n",
    "| 1998 | 22\n",
    "| 1997 | 22\n",
    "| 1996 | 14\n",
    "| Sum | 707"
   ]
  },
  {
   "cell_type": "markdown",
   "metadata": {},
   "source": []
  }
 ],
 "metadata": {
  "kernelspec": {
   "display_name": "Python 3.9.12 ('base')",
   "language": "python",
   "name": "python3"
  },
  "language_info": {
   "codemirror_mode": {
    "name": "ipython",
    "version": 3
   },
   "file_extension": ".py",
   "mimetype": "text/x-python",
   "name": "python",
   "nbconvert_exporter": "python",
   "pygments_lexer": "ipython3",
   "version": "3.9.12"
  },
  "orig_nbformat": 4,
  "vscode": {
   "interpreter": {
    "hash": "d486b63b850724bc6551cda0a2a2678785b3f8f51c1b5738c292f3857cafcf62"
   }
  }
 },
 "nbformat": 4,
 "nbformat_minor": 2
}
