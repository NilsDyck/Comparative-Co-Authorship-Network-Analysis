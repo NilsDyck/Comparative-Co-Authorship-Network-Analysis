{
 "cells": [
  {
   "cell_type": "markdown",
   "metadata": {},
   "source": [
    "# Comparing CIAA, DCFS and DLT\n",
    "After downlading the three datasets from the conferences (CIAA-CIAA, DCFS-DCFS, DLT-DLT; without abstracts), we now show some fundamental statistics from every dataset and compare them to each other.\n",
    "###### written by Nils Dyck, 04.11.2022"
   ]
  },
  {
   "cell_type": "markdown",
   "metadata": {},
   "source": [
    "At first we import the three datasets using pandas."
   ]
  },
  {
   "cell_type": "code",
   "execution_count": 2,
   "metadata": {},
   "outputs": [
    {
     "data": {
      "text/html": [
       "<div>\n",
       "<style scoped>\n",
       "    .dataframe tbody tr th:only-of-type {\n",
       "        vertical-align: middle;\n",
       "    }\n",
       "\n",
       "    .dataframe tbody tr th {\n",
       "        vertical-align: top;\n",
       "    }\n",
       "\n",
       "    .dataframe thead th {\n",
       "        text-align: right;\n",
       "    }\n",
       "</style>\n",
       "<table border=\"1\" class=\"dataframe\">\n",
       "  <thead>\n",
       "    <tr style=\"text-align: right;\">\n",
       "      <th></th>\n",
       "      <th>Venue</th>\n",
       "      <th>Year</th>\n",
       "      <th>Author</th>\n",
       "      <th>URL</th>\n",
       "      <th>CoAuthorList</th>\n",
       "      <th>Title</th>\n",
       "      <th>Pagination</th>\n",
       "      <th>NoAuthor</th>\n",
       "      <th>AuthorURLs</th>\n",
       "      <th>DOI</th>\n",
       "    </tr>\n",
       "  </thead>\n",
       "  <tbody>\n",
       "    <tr>\n",
       "      <th>0</th>\n",
       "      <td>CIAA</td>\n",
       "      <td>2014</td>\n",
       "      <td>Florin Manea</td>\n",
       "      <td>https://dblp.org/pid/67/4899.html</td>\n",
       "      <td>Marius Dumitran, Javier Gil, Florin Manea, Vic...</td>\n",
       "      <td>Bounded Prefix-Suffix Duplication.</td>\n",
       "      <td>176-187</td>\n",
       "      <td>4</td>\n",
       "      <td>https://dblp.org/pid/147/8451.html,https://dbl...</td>\n",
       "      <td>10.1007/978-3-319-08846-4_13</td>\n",
       "    </tr>\n",
       "    <tr>\n",
       "      <th>1</th>\n",
       "      <td>CIAA</td>\n",
       "      <td>2016</td>\n",
       "      <td>Aleksandrs Belovs</td>\n",
       "      <td>https://dblp.org/pid/24/4309.html</td>\n",
       "      <td>Aleksandrs Belovs, J. Andres Montoya, Abuzer Y...</td>\n",
       "      <td>Looking for Pairs that Hard to Separate: A Qua...</td>\n",
       "      <td>213-223</td>\n",
       "      <td>3</td>\n",
       "      <td>https://dblp.org/pid/24/4309.html,https://dblp...</td>\n",
       "      <td>10.1007/978-3-319-40946-7_18</td>\n",
       "    </tr>\n",
       "    <tr>\n",
       "      <th>2</th>\n",
       "      <td>CIAA</td>\n",
       "      <td>2003</td>\n",
       "      <td>Tadeusz Dobosz</td>\n",
       "      <td>https://dblp.org/pid/53/947.html</td>\n",
       "      <td>Olgierd Unold, Maciej Troc, Tadeusz Dobosz, Al...</td>\n",
       "      <td>Finite-State Molecular Computing.</td>\n",
       "      <td>309-310</td>\n",
       "      <td>4</td>\n",
       "      <td>https://dblp.org/pid/15/3718.html,https://dblp...</td>\n",
       "      <td>10.1007/3-540-45089-0_33</td>\n",
       "    </tr>\n",
       "    <tr>\n",
       "      <th>3</th>\n",
       "      <td>CIAA</td>\n",
       "      <td>2005</td>\n",
       "      <td>Jason Eisner</td>\n",
       "      <td>https://dblp.org/pid/37/3263.html</td>\n",
       "      <td>André Kempe, Jean-Marc Champarnaud, Jason Eisn...</td>\n",
       "      <td>A Class of Rational</td>\n",
       "      <td>188-198</td>\n",
       "      <td>5</td>\n",
       "      <td>https://dblp.org/pid/04/692.html,https://dblp....</td>\n",
       "      <td>10.1007/11605157_16</td>\n",
       "    </tr>\n",
       "    <tr>\n",
       "      <th>4</th>\n",
       "      <td>CIAA</td>\n",
       "      <td>2012</td>\n",
       "      <td>Tullio Ceccherini-Silberstein</td>\n",
       "      <td>https://dblp.org/pid/47/5900.html</td>\n",
       "      <td>Tullio Ceccherini-Silberstein, Michel Coornaer...</td>\n",
       "      <td>Cellular Automata on Regular Rooted Trees.</td>\n",
       "      <td>101-112</td>\n",
       "      <td>4</td>\n",
       "      <td>https://dblp.org/pid/41/6022.html,https://dblp...</td>\n",
       "      <td>10.1007/978-3-642-31606-7_9</td>\n",
       "    </tr>\n",
       "  </tbody>\n",
       "</table>\n",
       "</div>"
      ],
      "text/plain": [
       "  Venue  Year                         Author  \\\n",
       "0  CIAA  2014                   Florin Manea   \n",
       "1  CIAA  2016              Aleksandrs Belovs   \n",
       "2  CIAA  2003                 Tadeusz Dobosz   \n",
       "3  CIAA  2005                   Jason Eisner   \n",
       "4  CIAA  2012  Tullio Ceccherini-Silberstein   \n",
       "\n",
       "                                 URL  \\\n",
       "0  https://dblp.org/pid/67/4899.html   \n",
       "1  https://dblp.org/pid/24/4309.html   \n",
       "2   https://dblp.org/pid/53/947.html   \n",
       "3  https://dblp.org/pid/37/3263.html   \n",
       "4  https://dblp.org/pid/47/5900.html   \n",
       "\n",
       "                                        CoAuthorList  \\\n",
       "0  Marius Dumitran, Javier Gil, Florin Manea, Vic...   \n",
       "1  Aleksandrs Belovs, J. Andres Montoya, Abuzer Y...   \n",
       "2  Olgierd Unold, Maciej Troc, Tadeusz Dobosz, Al...   \n",
       "3  André Kempe, Jean-Marc Champarnaud, Jason Eisn...   \n",
       "4  Tullio Ceccherini-Silberstein, Michel Coornaer...   \n",
       "\n",
       "                                               Title Pagination  NoAuthor  \\\n",
       "0                 Bounded Prefix-Suffix Duplication.    176-187         4   \n",
       "1  Looking for Pairs that Hard to Separate: A Qua...    213-223         3   \n",
       "2                  Finite-State Molecular Computing.    309-310         4   \n",
       "3                               A Class of Rational     188-198         5   \n",
       "4         Cellular Automata on Regular Rooted Trees.    101-112         4   \n",
       "\n",
       "                                          AuthorURLs  \\\n",
       "0  https://dblp.org/pid/147/8451.html,https://dbl...   \n",
       "1  https://dblp.org/pid/24/4309.html,https://dblp...   \n",
       "2  https://dblp.org/pid/15/3718.html,https://dblp...   \n",
       "3  https://dblp.org/pid/04/692.html,https://dblp....   \n",
       "4  https://dblp.org/pid/41/6022.html,https://dblp...   \n",
       "\n",
       "                            DOI  \n",
       "0  10.1007/978-3-319-08846-4_13  \n",
       "1  10.1007/978-3-319-40946-7_18  \n",
       "2      10.1007/3-540-45089-0_33  \n",
       "3           10.1007/11605157_16  \n",
       "4   10.1007/978-3-642-31606-7_9  "
      ]
     },
     "execution_count": 2,
     "metadata": {},
     "output_type": "execute_result"
    }
   ],
   "source": [
    "#from data_science_project.config import ciaa_ciaa #do not know yet, why it is not working\n",
    "import pandas as pd\n",
    "\n",
    "sep_parameter = ';'\n",
    "default = pd.read_csv('../data/cleaned/gruber-holzer-rauch_dataset.csv', sep=sep_parameter)\n",
    "ciaa_ciaa = pd.read_csv('../data/cleaned/CIAA-CIAA.csv', sep=sep_parameter)\n",
    "dcfs_dcfs = pd.read_csv('../data/cleaned/DCFS-DCFS.csv', sep=sep_parameter)\n",
    "dlt_dlt = pd.read_csv('../data/cleaned/DLT-DLT.csv', sep=sep_parameter)\n",
    "\n",
    "default.head()\n",
    "# print(ciaa_ciaa.head())\n",
    "#print(dcfs_dcfs.head())\n",
    "# print(dlt_dlt.head())"
   ]
  },
  {
   "cell_type": "markdown",
   "metadata": {},
   "source": [
    "Now we collect the amount of paper and the number of publishing authors from each conference."
   ]
  },
  {
   "cell_type": "code",
   "execution_count": 6,
   "metadata": {},
   "outputs": [
    {
     "name": "stdout",
     "output_type": "stream",
     "text": [
      "CIAA has 496 papers and 662 authors.\n",
      "\n",
      "DCFS has 481 papers and 435 authors.\n",
      "\n",
      "DLT has 963 papers and 986 authors.\n",
      "\n",
      "Default has 687 papers.\n"
     ]
    }
   ],
   "source": [
    "#count papers\n",
    "ciaa_titles = ciaa_ciaa['Title'].to_list()\n",
    "dcfs_titles = dcfs_dcfs['Title'].to_list()\n",
    "dlt_titles = dlt_dlt['Title'].to_list()\n",
    "default_titles = default['Title'].to_list()\n",
    "\n",
    "ciaa_titles = set(ciaa_titles)\n",
    "dcfs_titles = set(dcfs_titles)\n",
    "dlt_titles = set(dlt_titles)\n",
    "default_titles = set(default_titles)\n",
    "\n",
    "#count authors\n",
    "ciaa_authors = ciaa_ciaa['Author'].to_list()\n",
    "dcfs_authors = dcfs_dcfs['Author'].to_list()\n",
    "dlt_authors = dlt_dlt['Author'].to_list()\n",
    "\n",
    "ciaa_authors = set(ciaa_authors)\n",
    "dcfs_authors = set(dcfs_authors)\n",
    "dlt_authors = set(dlt_authors)\n",
    "\n",
    "#print results\n",
    "print('CIAA has '+str(len(ciaa_titles))+' papers and '+str(len(ciaa_authors))+' authors.\\n')\n",
    "print('DCFS has '+str(len(dcfs_titles))+' papers and '+str(len(dcfs_authors))+' authors.\\n')\n",
    "print('DLT has '+str(len(dlt_titles))+' papers and '+str(len(dlt_authors))+' authors.\\n')\n",
    "print('Default has '+str(len(default_titles))+' papers.')"
   ]
  },
  {
   "cell_type": "markdown",
   "metadata": {},
   "source": [
    "Let us now see how many authors there are per paper."
   ]
  },
  {
   "cell_type": "code",
   "execution_count": 42,
   "metadata": {},
   "outputs": [
    {
     "data": {
      "image/png": "[encoded data removed]",
      "text/plain": [
       "<Figure size 432x288 with 1 Axes>"
      ]
     },
     "metadata": {
      "needs_background": "light"
     },
     "output_type": "display_data"
    },
    {
     "data": {
      "image/png": "[encoded data removed]",
      "text/plain": [
       "<Figure size 432x288 with 1 Axes>"
      ]
     },
     "metadata": {
      "needs_background": "light"
     },
     "output_type": "display_data"
    },
    {
     "data": {
      "image/png": "[encoded data removed]",
      "text/plain": [
       "<Figure size 432x288 with 1 Axes>"
      ]
     },
     "metadata": {
      "needs_background": "light"
     },
     "output_type": "display_data"
    },
    {
     "data": {
      "image/png": "[encoded data removed]",
      "text/plain": [
       "<Figure size 432x288 with 1 Axes>"
      ]
     },
     "metadata": {
      "needs_background": "light"
     },
     "output_type": "display_data"
    }
   ],
   "source": [
    "#At first clean the co-authors for easier use\n",
    "\n",
    "import statistics\n",
    "\n",
    "ciaa_co_authors = ciaa_ciaa['Co-Authors'].tolist()\n",
    "for i in range(len(ciaa_co_authors)):\n",
    "    ciaa_co_authors[i] = str(ciaa_co_authors[i]).split(', ')\n",
    "for i in range(len(ciaa_co_authors)):\n",
    "    for j in range(len(ciaa_co_authors[i])):\n",
    "        ciaa_co_authors[i][j] = ciaa_co_authors[i][j].replace('nan', '')\n",
    "dcfs_co_authors = dcfs_dcfs['Co-Authors'].tolist()\n",
    "for i in range(len(dcfs_co_authors)):\n",
    "    dcfs_co_authors[i] = str(dcfs_co_authors[i]).split(', ')\n",
    "for i in range(len(dcfs_co_authors)):\n",
    "    for j in range(len(dcfs_co_authors[i])):\n",
    "        dcfs_co_authors[i][j] = dcfs_co_authors[i][j].replace('nan', '')\n",
    "dlt_co_authors = dlt_dlt['Co-Authors'].tolist()\n",
    "for i in range(len(dlt_co_authors)):\n",
    "    dlt_co_authors[i] = str(dlt_co_authors[i]).split(', ')\n",
    "for i in range(len(dlt_co_authors)):\n",
    "    for j in range(len(dlt_co_authors[i])):\n",
    "        dlt_co_authors[i][j] = dlt_co_authors[i][j].replace('nan', '')\n",
    "ciaa_co_authors\n",
    "\n",
    "#count the co-authors\n",
    "ciaa_sum = []\n",
    "for entry in ciaa_co_authors:\n",
    "    if entry == ['']:\n",
    "        ciaa_sum.append(1)\n",
    "    else:\n",
    "        #entry = entry.split(', ')\n",
    "        ciaa_sum.append(len(entry)+1)\n",
    "ciaa_avg = sum(ciaa_sum)/len(ciaa_sum)\n",
    "ciaa_med = statistics.median(ciaa_sum)\n",
    "dcfs_sum = []\n",
    "for entry in dcfs_co_authors:\n",
    "    if entry == ['']:\n",
    "        dcfs_sum.append(1)\n",
    "    else:\n",
    "        #entry = entry.split(', ')\n",
    "        dcfs_sum.append(len(entry)+1)\n",
    "dcfs_avg = sum(dcfs_sum)/len(dcfs_sum)\n",
    "dcfs_med = statistics.median(dcfs_sum)\n",
    "dlt_sum = []\n",
    "for entry in dlt_co_authors:\n",
    "    if entry == ['']:\n",
    "        dlt_sum.append(1)\n",
    "    else:\n",
    "        #entry = entry.split(', ')\n",
    "        dlt_sum.append(len(entry)+1)\n",
    "dlt_avg = sum(dlt_sum)/len(dlt_sum)\n",
    "dlt_med = statistics.median(dlt_sum)\n",
    "\n",
    "#count the number of co-authors\n",
    "ciaa_plot = []\n",
    "for i in range(1,max(ciaa_sum)+1):\n",
    "    ciaa_plot.append(ciaa_sum.count(i))\n",
    "dcfs_plot = []\n",
    "for i in range(1,max(dcfs_sum)+1):\n",
    "    dcfs_plot.append(dcfs_sum.count(i))\n",
    "dlt_plot = []\n",
    "for i in range(1,max(dlt_sum)+1):\n",
    "    dlt_plot.append(dlt_sum.count(i))\n",
    "\n",
    "#make a plot for each conference\n",
    "import matplotlib.pyplot as plt\n",
    "\n",
    "def makePlot(list, avg, med):\n",
    "    x = []\n",
    "    for i in range(1,len(list)+1):\n",
    "        x.append(i)\n",
    "    y = []\n",
    "    for j in list:\n",
    "        y.append(j)\n",
    "    plt.bar(x, y)\n",
    "    plt.title('Autoren je Veröffentlichung')\n",
    "    plt.ylabel('Zahl an Veröffentlichungen')\n",
    "    plt.xlabel('Anzahl Autoren')\n",
    "    plt.axvline(avg, color = 'red', label = 'Mittelwert = '+str(avg))\n",
    "    plt.axvline(med, color = 'green', label = 'Median = '+str(med))\n",
    "    plt.legend()\n",
    "    plt.show()\n",
    "\n",
    "def makeLogPlot(list):\n",
    "    x = []\n",
    "    for i in range(1,len(list)+1):\n",
    "        x.append(i)\n",
    "    y = []\n",
    "    for j in list:\n",
    "        y.append(j)\n",
    "    plt.bar(y, x)\n",
    "    plt.title('Autoren je Veröffentlichung mit logarithmischen Achsen')\n",
    "    plt.xlabel('Zahl an Veröffentlichungen')\n",
    "    plt.ylabel('Anzahl Autoren')\n",
    "    plt.xscale('log')\n",
    "    plt.yscale('log')\n",
    "    plt.show()\n",
    "\n",
    "makePlot(ciaa_plot, ciaa_avg, ciaa_med)\n",
    "makePlot(dcfs_plot, dcfs_avg, dcfs_med)\n",
    "makePlot(dlt_plot, dlt_avg, dlt_med)"
   ]
  }
 ],
 "metadata": {
  "kernelspec": {
   "display_name": "Python 3.9.12 ('base')",
   "language": "python",
   "name": "python3"
  },
  "language_info": {
   "codemirror_mode": {
    "name": "ipython",
    "version": 3
   },
   "file_extension": ".py",
   "mimetype": "text/x-python",
   "name": "python",
   "nbconvert_exporter": "python",
   "pygments_lexer": "ipython3",
   "version": "3.9.12"
  },
  "orig_nbformat": 4,
  "vscode": {
   "interpreter": {
    "hash": "d486b63b850724bc6551cda0a2a2678785b3f8f51c1b5738c292f3857cafcf62"
   }
  }
 },
 "nbformat": 4,
 "nbformat_minor": 2
}
