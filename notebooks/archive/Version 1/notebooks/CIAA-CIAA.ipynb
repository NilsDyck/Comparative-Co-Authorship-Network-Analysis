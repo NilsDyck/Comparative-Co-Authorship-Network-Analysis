{
 "cells": [
  {
   "cell_type": "markdown",
   "metadata": {},
   "source": [
    "# CIAA-CIAA\n",
    "In this notebook I work with the CIAA-CIAA dataset as created by my very own crawler from [1]. Step by step I try to proof the statistics given by [2].\n",
    "\n",
    "###### written by Nils Dyck, 15.11.2022"
   ]
  },
  {
   "cell_type": "markdown",
   "metadata": {},
   "source": [
    "## Import Data\n",
    "At first I import the needed libraries and the data I work with."
   ]
  },
  {
   "cell_type": "code",
   "execution_count": 2,
   "metadata": {},
   "outputs": [],
   "source": [
    "import pandas as pd"
   ]
  },
  {
   "cell_type": "code",
   "execution_count": 6,
   "metadata": {},
   "outputs": [
    {
     "data": {
      "text/html": [
       "<div>\n",
       "<style scoped>\n",
       "    .dataframe tbody tr th:only-of-type {\n",
       "        vertical-align: middle;\n",
       "    }\n",
       "\n",
       "    .dataframe tbody tr th {\n",
       "        vertical-align: top;\n",
       "    }\n",
       "\n",
       "    .dataframe thead th {\n",
       "        text-align: right;\n",
       "    }\n",
       "</style>\n",
       "<table border=\"1\" class=\"dataframe\">\n",
       "  <thead>\n",
       "    <tr style=\"text-align: right;\">\n",
       "      <th></th>\n",
       "      <th>Author</th>\n",
       "      <th>Title</th>\n",
       "      <th>Co-Authors</th>\n",
       "      <th>Pagination</th>\n",
       "      <th>Published</th>\n",
       "      <th>Venue</th>\n",
       "    </tr>\n",
       "  </thead>\n",
       "  <tbody>\n",
       "    <tr>\n",
       "      <th>0</th>\n",
       "      <td>Yuan Gao</td>\n",
       "      <td>In Memoriam Sheng Yu.</td>\n",
       "      <td>Kai Salomaa</td>\n",
       "      <td>1-4</td>\n",
       "      <td>2012</td>\n",
       "      <td>CIAA 2012</td>\n",
       "    </tr>\n",
       "    <tr>\n",
       "      <th>1</th>\n",
       "      <td>Kai Salomaa</td>\n",
       "      <td>In Memoriam Sheng Yu.</td>\n",
       "      <td>Yuan Gao</td>\n",
       "      <td>1-4</td>\n",
       "      <td>2012</td>\n",
       "      <td>CIAA 2012</td>\n",
       "    </tr>\n",
       "    <tr>\n",
       "      <th>2</th>\n",
       "      <td>Janusz A. Brzozowski</td>\n",
       "      <td>In Search of Most Complex Regular Languages.</td>\n",
       "      <td>NaN</td>\n",
       "      <td>5-24</td>\n",
       "      <td>2012</td>\n",
       "      <td>CIAA 2012</td>\n",
       "    </tr>\n",
       "    <tr>\n",
       "      <th>3</th>\n",
       "      <td>Andrzej Ehrenfeucht</td>\n",
       "      <td>A Formal Framework for Processes Inspired by t...</td>\n",
       "      <td>Grzegorz Rozenberg</td>\n",
       "      <td>25-27</td>\n",
       "      <td>2012</td>\n",
       "      <td>CIAA 2012</td>\n",
       "    </tr>\n",
       "    <tr>\n",
       "      <th>4</th>\n",
       "      <td>Grzegorz Rozenberg</td>\n",
       "      <td>A Formal Framework for Processes Inspired by t...</td>\n",
       "      <td>Andrzej Ehrenfeucht</td>\n",
       "      <td>25-27</td>\n",
       "      <td>2012</td>\n",
       "      <td>CIAA 2012</td>\n",
       "    </tr>\n",
       "  </tbody>\n",
       "</table>\n",
       "</div>"
      ],
      "text/plain": [
       "                 Author                                              Title  \\\n",
       "0              Yuan Gao                              In Memoriam Sheng Yu.   \n",
       "1           Kai Salomaa                              In Memoriam Sheng Yu.   \n",
       "2  Janusz A. Brzozowski       In Search of Most Complex Regular Languages.   \n",
       "3   Andrzej Ehrenfeucht  A Formal Framework for Processes Inspired by t...   \n",
       "4    Grzegorz Rozenberg  A Formal Framework for Processes Inspired by t...   \n",
       "\n",
       "            Co-Authors Pagination  Published      Venue  \n",
       "0          Kai Salomaa        1-4       2012  CIAA 2012  \n",
       "1             Yuan Gao        1-4       2012  CIAA 2012  \n",
       "2                  NaN       5-24       2012  CIAA 2012  \n",
       "3   Grzegorz Rozenberg      25-27       2012  CIAA 2012  \n",
       "4  Andrzej Ehrenfeucht      25-27       2012  CIAA 2012  "
      ]
     },
     "execution_count": 6,
     "metadata": {},
     "output_type": "execute_result"
    }
   ],
   "source": [
    "data = pd.read_csv('../data/cleaned/CIAA-CIAA.csv', sep = ';')\n",
    "default = pd.read_csv('../data/cleaned/gruber-holzer-rauch_dataset.csv', sep = ';')\n",
    "#to show the structure of the data\n",
    "data.head()"
   ]
  },
  {
   "cell_type": "markdown",
   "metadata": {},
   "source": [
    "## Total Numbers\n",
    "I extract the total number of papers and authors."
   ]
  },
  {
   "cell_type": "code",
   "execution_count": 7,
   "metadata": {},
   "outputs": [
    {
     "name": "stdout",
     "output_type": "stream",
     "text": [
      "707\n",
      "19\n"
     ]
    }
   ],
   "source": [
    "all_papers = data[['Title', 'Published']].drop_duplicates()\n",
    "total_papers = len(all_papers.index)\n",
    "papers_2022 = len(all_papers[all_papers.Published == 2022].index)\n",
    "print(total_papers)\n",
    "print(papers_2022)"
   ]
  },
  {
   "cell_type": "markdown",
   "metadata": {},
   "source": [
    "As you can see there is a total number of 707 papers while 19 where published at CIAA 2022. So the total number of papers given by [2] is correct."
   ]
  },
  {
   "cell_type": "code",
   "execution_count": 11,
   "metadata": {},
   "outputs": [
    {
     "name": "stdout",
     "output_type": "stream",
     "text": [
      "1498\n",
      "1454\n"
     ]
    }
   ],
   "source": [
    "all_authors = data[['Author', 'Published']].drop_duplicates()\n",
    "total_authors = len(all_authors.index)\n",
    "authors_2022 = len(all_authors[all_authors.Published == 2022].index)\n",
    "print(total_authors)\n",
    "#authors_2022\n",
    "default_authors = default[['Author', 'Year']].drop_duplicates()\n",
    "print(len(default_authors.index))"
   ]
  },
  {
   "cell_type": "markdown",
   "metadata": {},
   "source": [
    "## Sources\n",
    "[1] https://dblp.uni-trier.de/db/conf/wia/index.html (15.11.2022)\n",
    "\n",
    "[2] Gruber, H., Holzer, M., Rauch, C. (2022). On 25 Years of CIAA Through the Lens of Data Science. In: Caron, P., Mignot, L. (eds) Implementation and Application of Automata. CIAA 2022. Lecture Notes in Computer Science, vol 13266. Springer, Cham. https://doi.org/10.1007/978-3-031-07469-1_1"
   ]
  }
 ],
 "metadata": {
  "kernelspec": {
   "display_name": "Python 3.9.12 ('base')",
   "language": "python",
   "name": "python3"
  },
  "language_info": {
   "codemirror_mode": {
    "name": "ipython",
    "version": 3
   },
   "file_extension": ".py",
   "mimetype": "text/x-python",
   "name": "python",
   "nbconvert_exporter": "python",
   "pygments_lexer": "ipython3",
   "version": "3.9.12"
  },
  "orig_nbformat": 4,
  "vscode": {
   "interpreter": {
    "hash": "d486b63b850724bc6551cda0a2a2678785b3f8f51c1b5738c292f3857cafcf62"
   }
  }
 },
 "nbformat": 4,
 "nbformat_minor": 2
}
