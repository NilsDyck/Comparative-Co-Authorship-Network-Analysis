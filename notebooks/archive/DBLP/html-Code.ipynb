{
 "cells": [
  {
   "cell_type": "markdown",
   "metadata": {},
   "source": [
    "# html-Code\n",
    "Downlaoding html-code from DBLP for further work by using the beautiful pyhton library which is described in [1].\n",
    "###### written by Nils Dyck, 06.10.2022"
   ]
  },
  {
   "cell_type": "code",
   "execution_count": 1,
   "metadata": {},
   "outputs": [],
   "source": [
    "import urllib.request, urllib.error, urllib.parse\n",
    "\n",
    "import re #for using regular expressions by finding the paper titles\n",
    "\n",
    "from bs4 import BeautifulSoup\n",
    "\n",
    "#url = input('Enter URL: ')\n",
    "url = 'https://dblp.uni-trier.de/db/conf/wia/index.html'\n",
    "\n",
    "#As stated in [1]:\n",
    "response = urllib.request.urlopen(url)\n",
    "webContent = response.read().decode('UTF-8')\n",
    "##\n",
    "soup = BeautifulSoup(webContent, 'html.parser')\n",
    "\n",
    "with open('conference-site.html', 'w') as f:\n",
    "    f.write(repr(soup))"
   ]
  },
  {
   "cell_type": "code",
   "execution_count": 2,
   "metadata": {},
   "outputs": [
    {
     "data": {
      "text/plain": [
       "['https://dblp.uni-trier.de/db/conf/wia/ciaa2022.html',\n",
       " 'https://dblp.uni-trier.de/db/conf/wia/ciaa2021.html',\n",
       " 'https://dblp.uni-trier.de/db/conf/wia/ciaa2019.html',\n",
       " 'https://dblp.uni-trier.de/db/conf/wia/ciaa2018.html',\n",
       " 'https://dblp.uni-trier.de/db/conf/wia/ciaa2017.html',\n",
       " 'https://dblp.uni-trier.de/db/conf/wia/ciaa2016.html',\n",
       " 'https://dblp.uni-trier.de/db/conf/wia/ciaa2015.html',\n",
       " 'https://dblp.uni-trier.de/db/conf/wia/ciaa2014.html',\n",
       " 'https://dblp.uni-trier.de/db/conf/wia/ciaa2013.html',\n",
       " 'https://dblp.uni-trier.de/db/conf/wia/ciaa2012.html',\n",
       " 'https://dblp.uni-trier.de/db/conf/wia/ciaa2011.html',\n",
       " 'https://dblp.uni-trier.de/db/conf/wia/ciaa2010.html',\n",
       " 'https://dblp.uni-trier.de/db/conf/wia/ciaa2009.html',\n",
       " 'https://dblp.uni-trier.de/db/conf/wia/ciaa2008.html',\n",
       " 'https://dblp.uni-trier.de/db/conf/wia/ciaa2007.html',\n",
       " 'https://dblp.uni-trier.de/db/conf/wia/ciaa2006.html',\n",
       " 'https://dblp.uni-trier.de/db/conf/wia/ciaa2005.html',\n",
       " 'https://dblp.uni-trier.de/db/conf/wia/ciaa2004.html',\n",
       " 'https://dblp.uni-trier.de/db/conf/wia/ciaa2003.html',\n",
       " 'https://dblp.uni-trier.de/db/conf/wia/ciaa2002.html',\n",
       " 'https://dblp.uni-trier.de/db/conf/wia/ciaa2001.html',\n",
       " 'https://dblp.uni-trier.de/db/conf/wia/ciaa2000.html',\n",
       " 'https://dblp.uni-trier.de/db/conf/wia/wia1999.html',\n",
       " 'https://dblp.uni-trier.de/db/conf/wia/wia1998.html',\n",
       " 'https://dblp.uni-trier.de/db/conf/wia/wia1997.html',\n",
       " 'https://dblp.uni-trier.de/db/conf/wia/wia1996.html']"
      ]
     },
     "execution_count": 2,
     "metadata": {},
     "output_type": "execute_result"
    }
   ],
   "source": [
    "#get links from the conferences\n",
    "conferences = []\n",
    "conferences.append('https://dblp.uni-trier.de/db/conf/wia/ciaa2022.html')\n",
    "conferences.append('https://dblp.uni-trier.de/db/conf/wia/ciaa2021.html')\n",
    "for i in range(2019, 1999, -1):\n",
    "    conferences.append('https://dblp.uni-trier.de/db/conf/wia/ciaa'+str(i)+'.html')\n",
    "for j in range(1999, 1995, -1):\n",
    "    conferences.append('https://dblp.uni-trier.de/db/conf/wia/wia'+str(j)+'.html')\n",
    "conferences\n"
   ]
  },
  {
   "cell_type": "code",
   "execution_count": 3,
   "metadata": {},
   "outputs": [],
   "source": [
    "#download html-code of conference-sites\n",
    "files=[]\n",
    "for conference in conferences:\n",
    "    response = urllib.request.urlopen(conference)\n",
    "    webContent = response.read().decode('UTF-8')\n",
    "    soup = BeautifulSoup(webContent, 'html.parser') \n",
    "    date = date = str(conference)\n",
    "    date = re.search('wia/.*?\\.html', date).group()\n",
    "    date = date.replace('wia/','')\n",
    "    files.append(date)\n",
    "    with open(date, 'w') as f:\n",
    "        f.write(repr(soup))"
   ]
  },
  {
   "cell_type": "code",
   "execution_count": 4,
   "metadata": {},
   "outputs": [
    {
     "data": {
      "text/plain": [
       "['ciaa2022.html',\n",
       " 'ciaa2021.html',\n",
       " 'ciaa2019.html',\n",
       " 'ciaa2018.html',\n",
       " 'ciaa2017.html',\n",
       " 'ciaa2016.html',\n",
       " 'ciaa2015.html',\n",
       " 'ciaa2014.html',\n",
       " 'ciaa2013.html',\n",
       " 'ciaa2012.html',\n",
       " 'ciaa2011.html',\n",
       " 'ciaa2010.html',\n",
       " 'ciaa2009.html',\n",
       " 'ciaa2008.html',\n",
       " 'ciaa2007.html',\n",
       " 'ciaa2006.html',\n",
       " 'ciaa2005.html',\n",
       " 'ciaa2004.html',\n",
       " 'ciaa2003.html',\n",
       " 'ciaa2002.html',\n",
       " 'ciaa2001.html',\n",
       " 'ciaa2000.html',\n",
       " 'wia1999.html',\n",
       " 'wia1998.html',\n",
       " 'wia1997.html',\n",
       " 'wia1996.html']"
      ]
     },
     "execution_count": 4,
     "metadata": {},
     "output_type": "execute_result"
    }
   ],
   "source": [
    "files"
   ]
  },
  {
   "cell_type": "code",
   "execution_count": 5,
   "metadata": {},
   "outputs": [
    {
     "data": {
      "text/plain": [
       "['https://doi.org/10.1007/978-3-031-07469-1_1',\n",
       " 'https://doi.org/10.1007/978-3-031-07469-1_2',\n",
       " 'https://doi.org/10.1007/978-3-031-07469-1_3',\n",
       " 'https://doi.org/10.1007/978-3-031-07469-1_4',\n",
       " 'https://doi.org/10.1007/978-3-031-07469-1_5',\n",
       " 'https://doi.org/10.1007/978-3-031-07469-1_6',\n",
       " 'https://doi.org/10.1007/978-3-031-07469-1_7',\n",
       " 'https://doi.org/10.1007/978-3-031-07469-1_8',\n",
       " 'https://doi.org/10.1007/978-3-031-07469-1_9',\n",
       " 'https://doi.org/10.1007/978-3-031-07469-1_10',\n",
       " 'https://doi.org/10.1007/978-3-031-07469-1_11',\n",
       " 'https://doi.org/10.1007/978-3-031-07469-1_12',\n",
       " 'https://doi.org/10.1007/978-3-031-07469-1_13',\n",
       " 'https://doi.org/10.1007/978-3-031-07469-1_14',\n",
       " 'https://doi.org/10.1007/978-3-031-07469-1_15',\n",
       " 'https://doi.org/10.1007/978-3-031-07469-1_16',\n",
       " 'https://doi.org/10.1007/978-3-031-07469-1_17',\n",
       " 'https://doi.org/10.1007/978-3-031-07469-1_18',\n",
       " 'https://doi.org/10.1007/978-3-031-07469-1_19']"
      ]
     },
     "execution_count": 5,
     "metadata": {},
     "output_type": "execute_result"
    }
   ],
   "source": [
    "with open(files[0], 'r') as f:\n",
    "        code = f.read()    \n",
    "soup = BeautifulSoup(code, 'html.parser')\n",
    "papers = soup.find_all(class_ = 'ee')\n",
    "del papers[0]\n",
    "paper_links = []\n",
    "for paper in papers:\n",
    "    found = str(paper)\n",
    "    found = re.search('\"https://doi.org/.*?\"', found).group()\n",
    "    found = found.replace('\"','')\n",
    "    paper_links.append(found)\n",
    "paper_links"
   ]
  },
  {
   "cell_type": "code",
   "execution_count": 6,
   "metadata": {},
   "outputs": [
    {
     "ename": "FileNotFoundError",
     "evalue": "[Errno 2] No such file or directory: 'https://doi.org/10.1007/978-3-031-07469-1_1.html'",
     "output_type": "error",
     "traceback": [
      "\u001b[0;31m---------------------------------------------------------------------------\u001b[0m",
      "\u001b[0;31mFileNotFoundError\u001b[0m                         Traceback (most recent call last)",
      "\u001b[1;32m/Users/nils.dyck/Documents/ciaa-data-science-project/DBLP/html-Code.ipynb Zelle 7\u001b[0m in \u001b[0;36m<cell line: 4>\u001b[0;34m()\u001b[0m\n\u001b[1;32m     <a href='vscode-notebook-cell:/Users/nils.dyck/Documents/ciaa-data-science-project/DBLP/html-Code.ipynb#W6sZmlsZQ%3D%3D?line=23'>24</a>\u001b[0m webContent \u001b[39m=\u001b[39m response\u001b[39m.\u001b[39mread()\u001b[39m.\u001b[39mdecode(\u001b[39m'\u001b[39m\u001b[39mUTF-8\u001b[39m\u001b[39m'\u001b[39m)\n\u001b[1;32m     <a href='vscode-notebook-cell:/Users/nils.dyck/Documents/ciaa-data-science-project/DBLP/html-Code.ipynb#W6sZmlsZQ%3D%3D?line=24'>25</a>\u001b[0m soup \u001b[39m=\u001b[39m BeautifulSoup(webContent, \u001b[39m'\u001b[39m\u001b[39mhtml.parser\u001b[39m\u001b[39m'\u001b[39m)\n\u001b[0;32m---> <a href='vscode-notebook-cell:/Users/nils.dyck/Documents/ciaa-data-science-project/DBLP/html-Code.ipynb#W6sZmlsZQ%3D%3D?line=25'>26</a>\u001b[0m \u001b[39mwith\u001b[39;00m \u001b[39mopen\u001b[39;49m(\u001b[39mstr\u001b[39;49m(paper_link)\u001b[39m+\u001b[39;49m\u001b[39m'\u001b[39;49m\u001b[39m.html\u001b[39;49m\u001b[39m'\u001b[39;49m, \u001b[39m'\u001b[39;49m\u001b[39mx\u001b[39;49m\u001b[39m'\u001b[39;49m) \u001b[39mas\u001b[39;00m f:\n\u001b[1;32m     <a href='vscode-notebook-cell:/Users/nils.dyck/Documents/ciaa-data-science-project/DBLP/html-Code.ipynb#W6sZmlsZQ%3D%3D?line=26'>27</a>\u001b[0m     f\u001b[39m.\u001b[39mwrite(\u001b[39mrepr\u001b[39m(soup))\n\u001b[1;32m     <a href='vscode-notebook-cell:/Users/nils.dyck/Documents/ciaa-data-science-project/DBLP/html-Code.ipynb#W6sZmlsZQ%3D%3D?line=27'>28</a>\u001b[0m counter \u001b[39m+\u001b[39m\u001b[39m=\u001b[39m \u001b[39m1\u001b[39m\n",
      "\u001b[0;31mFileNotFoundError\u001b[0m: [Errno 2] No such file or directory: 'https://doi.org/10.1007/978-3-031-07469-1_1.html'"
     ]
    }
   ],
   "source": [
    "#download LNCS html-code of all papers from each conference\n",
    "import os #for creating directories\n",
    "counter = 0\n",
    "for file in files:\n",
    "    #open file and cook the soup\n",
    "    with open(file, 'r') as f:\n",
    "        code = f.read()    \n",
    "    soup = BeautifulSoup(code, 'html.parser')\n",
    "    papers = soup.find_all(class_ = 'ee') #find the LNCS-links of every paper from the conference\n",
    "    del papers[0] #first link is always for LNCS-conference-site\n",
    "    #extract the LNCS-links from the soup\n",
    "    paper_links = []\n",
    "    for paper in papers:\n",
    "        found = str(paper)\n",
    "        found = re.search('\"https://doi.org/.*?\"', found).group()\n",
    "        found = found.replace('\"','')\n",
    "        paper_links.append(found)\n",
    "    #save html-Code from each paper site into the right folder\n",
    "    directory_name = file.replace('.html', '')\n",
    "    os.mkdir(directory_name) #make directory for better overview\n",
    "    os.chdir(directory_name)\n",
    "    for paper_link in paper_links:\n",
    "        response = urllib.request.urlopen(paper_link)\n",
    "        webContent = response.read().decode('UTF-8')\n",
    "        soup = BeautifulSoup(webContent, 'html.parser')\n",
    "        with open(str(paper_link)+'.html', 'x') as f:\n",
    "            f.write(repr(soup))\n",
    "        counter += 1\n",
    "    os.chdir('..')"
   ]
  },
  {
   "cell_type": "markdown",
   "metadata": {},
   "source": [
    "## References\n",
    "[1] Richardson, Leonard (2004): Beautiful Soup Documentation. Online available at: https://www.crummy.com/software/BeautifulSoup/bs4/doc/index.html#; last edit: unk.; last access: 06.10.2022.  \n",
    "[2] Turkel, William J. / Crymble, Adam (2012): Downloading Web Pages with Python. Programming Historian. Online available at: https://programminghistorian.org/en/lessons/working-with-web-pages; last edit: 17.11.2021; last access: 06.10.2022.\n",
    "\n"
   ]
  }
 ],
 "metadata": {
  "kernelspec": {
   "display_name": "Python 3.9.12 ('base')",
   "language": "python",
   "name": "python3"
  },
  "language_info": {
   "codemirror_mode": {
    "name": "ipython",
    "version": 3
   },
   "file_extension": ".py",
   "mimetype": "text/x-python",
   "name": "python",
   "nbconvert_exporter": "python",
   "pygments_lexer": "ipython3",
   "version": "3.9.12"
  },
  "orig_nbformat": 4,
  "vscode": {
   "interpreter": {
    "hash": "d486b63b850724bc6551cda0a2a2678785b3f8f51c1b5738c292f3857cafcf62"
   }
  }
 },
 "nbformat": 4,
 "nbformat_minor": 2
}
