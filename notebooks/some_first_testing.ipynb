{
 "cells": [
  {
   "attachments": {},
   "cell_type": "markdown",
   "metadata": {},
   "source": [
    "# Some First Testing\n",
    "The dataset is used for some tests regarding simple data given by Gruber, Holzer and Rauch\n",
    "###### Nils Dyck, 29.04.2023"
   ]
  },
  {
   "cell_type": "code",
   "execution_count": 36,
   "metadata": {},
   "outputs": [],
   "source": [
    "import pandas as pd\n",
    "\n",
    "df = pd.read_csv('../data/cleaned/DATASET.csv',sep=';')\n",
    "\n",
    "titles = df['Title'].to_list()"
   ]
  },
  {
   "cell_type": "code",
   "execution_count": 37,
   "metadata": {},
   "outputs": [
    {
     "data": {
      "text/plain": [
       "42122"
      ]
     },
     "execution_count": 37,
     "metadata": {},
     "output_type": "execute_result"
    }
   ],
   "source": [
    "titles = set(titles)\n",
    "len(titles)"
   ]
  },
  {
   "cell_type": "code",
   "execution_count": 33,
   "metadata": {},
   "outputs": [],
   "source": [
    "ciaa_df = df[['Author','Title','Co-Authors','Co-Author-URLs','Pagination','Year','Venue']].loc[df['Venue'].isin(['CIAA','Workshop on Implementing Automata','WIA'])]\n",
    "ciaa_df.to_csv('../data/cleaned/CIAA_dup.csv',sep=';',index=False)\n",
    "ciaa_df = ciaa_df.drop_duplicates(subset=['Title','Co-Authors'])\n",
    "ciaa_df.to_csv('../data/cleaned/CIAA.csv',sep=';',index=False)"
   ]
  },
  {
   "attachments": {},
   "cell_type": "markdown",
   "metadata": {},
   "source": [
    "Where are the missing papers in CIAA-CIAA?"
   ]
  },
  {
   "cell_type": "code",
   "execution_count": 34,
   "metadata": {},
   "outputs": [
    {
     "name": "stdout",
     "output_type": "stream",
     "text": [
      "1996: 14\n",
      "1997: 22\n",
      "1998: 22\n",
      "1999: 16\n",
      "2000: 35\n",
      "2001: 24\n",
      "2002: 33\n",
      "2003: 33\n",
      "2004: 40\n",
      "2005: 36\n",
      "2006: 32\n",
      "2007: 34\n",
      "2008: 30\n",
      "2009: 32\n",
      "2010: 34\n",
      "2011: 27\n",
      "2012: 33\n",
      "2013: 31\n",
      "2014: 25\n",
      "2015: 26\n",
      "2016: 27\n",
      "2017: 20\n",
      "2018: 27\n",
      "2019: 19\n",
      "2020: 0\n",
      "2021: 15\n",
      "2022: 19\n"
     ]
    }
   ],
   "source": [
    "for i in range(1996,2023):\n",
    "    print(str(i)+': '+str(len(ciaa_df.loc[df['Year']==i])))"
   ]
  },
  {
   "cell_type": "code",
   "execution_count": 35,
   "metadata": {},
   "outputs": [
    {
     "data": {
      "text/html": [
       "<div>\n",
       "<style scoped>\n",
       "    .dataframe tbody tr th:only-of-type {\n",
       "        vertical-align: middle;\n",
       "    }\n",
       "\n",
       "    .dataframe tbody tr th {\n",
       "        vertical-align: top;\n",
       "    }\n",
       "\n",
       "    .dataframe thead th {\n",
       "        text-align: right;\n",
       "    }\n",
       "</style>\n",
       "<table border=\"1\" class=\"dataframe\">\n",
       "  <thead>\n",
       "    <tr style=\"text-align: right;\">\n",
       "      <th></th>\n",
       "      <th>Author</th>\n",
       "      <th>Title</th>\n",
       "      <th>Co-Authors</th>\n",
       "      <th>Co-Author-URLs</th>\n",
       "      <th>Pagination</th>\n",
       "      <th>Year</th>\n",
       "      <th>Venue</th>\n",
       "    </tr>\n",
       "  </thead>\n",
       "  <tbody>\n",
       "    <tr>\n",
       "      <th>115</th>\n",
       "      <td>Michael Riley</td>\n",
       "      <td>Network optimizations for large-vocabulary spe...</td>\n",
       "      <td>Mehryar Mohri, Michael Riley</td>\n",
       "      <td>['https://dblp.uni-trier.de/pid/03/5448.html']</td>\n",
       "      <td>1-12</td>\n",
       "      <td>1999</td>\n",
       "      <td>Speech Commun.</td>\n",
       "    </tr>\n",
       "    <tr>\n",
       "      <th>116</th>\n",
       "      <td>Michael Riley</td>\n",
       "      <td>Stochastic pronunciation modelling from hand-l...</td>\n",
       "      <td>Michael Riley, William Byrne, Michael Finke, S...</td>\n",
       "      <td>['https://dblp.uni-trier.de/pid/b/WilliamJByrn...</td>\n",
       "      <td>209-224</td>\n",
       "      <td>1999</td>\n",
       "      <td>Speech Commun.</td>\n",
       "    </tr>\n",
       "    <tr>\n",
       "      <th>117</th>\n",
       "      <td>Michael Riley</td>\n",
       "      <td>Rapid unit selection from a large speech corpu...</td>\n",
       "      <td>Mark C. Beutnagel, Mehryar Mohri, Michael Riley</td>\n",
       "      <td>['https://dblp.uni-trier.de/pid/28/4230.html',...</td>\n",
       "      <td>None</td>\n",
       "      <td>1999</td>\n",
       "      <td>EUROSPEECH</td>\n",
       "    </tr>\n",
       "    <tr>\n",
       "      <th>118</th>\n",
       "      <td>Michael Riley</td>\n",
       "      <td>Efficient general lattice generation and resco...</td>\n",
       "      <td>Andrej Ljolje, Fernando Pereira, Michael Riley</td>\n",
       "      <td>['https://dblp.uni-trier.de/pid/07/3593.html',...</td>\n",
       "      <td>None</td>\n",
       "      <td>1999</td>\n",
       "      <td>EUROSPEECH</td>\n",
       "    </tr>\n",
       "    <tr>\n",
       "      <th>119</th>\n",
       "      <td>Michael Riley</td>\n",
       "      <td>The AT&amp;t large vocabulary conversational speec...</td>\n",
       "      <td>Andrej Ljolje, Michael D. Riley, Donald Hindle</td>\n",
       "      <td>['https://dblp.uni-trier.de/pid/07/3593.html',...</td>\n",
       "      <td>None</td>\n",
       "      <td>1999</td>\n",
       "      <td>EUROSPEECH</td>\n",
       "    </tr>\n",
       "  </tbody>\n",
       "</table>\n",
       "</div>"
      ],
      "text/plain": [
       "            Author                                              Title  \\\n",
       "115  Michael Riley  Network optimizations for large-vocabulary spe...   \n",
       "116  Michael Riley  Stochastic pronunciation modelling from hand-l...   \n",
       "117  Michael Riley  Rapid unit selection from a large speech corpu...   \n",
       "118  Michael Riley  Efficient general lattice generation and resco...   \n",
       "119  Michael Riley  The AT&t large vocabulary conversational speec...   \n",
       "\n",
       "                                            Co-Authors  \\\n",
       "115                       Mehryar Mohri, Michael Riley   \n",
       "116  Michael Riley, William Byrne, Michael Finke, S...   \n",
       "117    Mark C. Beutnagel, Mehryar Mohri, Michael Riley   \n",
       "118     Andrej Ljolje, Fernando Pereira, Michael Riley   \n",
       "119     Andrej Ljolje, Michael D. Riley, Donald Hindle   \n",
       "\n",
       "                                        Co-Author-URLs Pagination  Year  \\\n",
       "115     ['https://dblp.uni-trier.de/pid/03/5448.html']       1-12  1999   \n",
       "116  ['https://dblp.uni-trier.de/pid/b/WilliamJByrn...    209-224  1999   \n",
       "117  ['https://dblp.uni-trier.de/pid/28/4230.html',...       None  1999   \n",
       "118  ['https://dblp.uni-trier.de/pid/07/3593.html',...       None  1999   \n",
       "119  ['https://dblp.uni-trier.de/pid/07/3593.html',...       None  1999   \n",
       "\n",
       "              Venue  \n",
       "115  Speech Commun.  \n",
       "116  Speech Commun.  \n",
       "117      EUROSPEECH  \n",
       "118      EUROSPEECH  \n",
       "119      EUROSPEECH  "
      ]
     },
     "execution_count": 35,
     "metadata": {},
     "output_type": "execute_result"
    }
   ],
   "source": [
    "test = df.loc[df['Year']==1999]\n",
    "test.head()"
   ]
  },
  {
   "cell_type": "code",
   "execution_count": 1,
   "metadata": {},
   "outputs": [
    {
     "name": "stdout",
     "output_type": "stream",
     "text": [
      "Intel MKL WARNING: Support of Intel(R) Streaming SIMD Extensions 4.2 (Intel(R) SSE4.2) enabled only processors has been deprecated. Intel oneAPI Math Kernel Library 2025.0 will require Intel(R) Advanced Vector Extensions (Intel(R) AVX) instructions.\n",
      "Intel MKL WARNING: Support of Intel(R) Streaming SIMD Extensions 4.2 (Intel(R) SSE4.2) enabled only processors has been deprecated. Intel oneAPI Math Kernel Library 2025.0 will require Intel(R) Advanced Vector Extensions (Intel(R) AVX) instructions.\n"
     ]
    },
    {
     "data": {
      "text/plain": [
       "array([ 1.,  2.,  3.,  4.,  5.,  6.,  7.,  8.,  9., 10.])"
      ]
     },
     "execution_count": 1,
     "metadata": {},
     "output_type": "execute_result"
    }
   ],
   "source": [
    "import numpy as np\n",
    "np.linspace(1,10,10)"
   ]
  }
 ],
 "metadata": {
  "kernelspec": {
   "display_name": "base",
   "language": "python",
   "name": "python3"
  },
  "language_info": {
   "codemirror_mode": {
    "name": "ipython",
    "version": 3
   },
   "file_extension": ".py",
   "mimetype": "text/x-python",
   "name": "python",
   "nbconvert_exporter": "python",
   "pygments_lexer": "ipython3",
   "version": "3.9.16"
  },
  "orig_nbformat": 4
 },
 "nbformat": 4,
 "nbformat_minor": 2
}
