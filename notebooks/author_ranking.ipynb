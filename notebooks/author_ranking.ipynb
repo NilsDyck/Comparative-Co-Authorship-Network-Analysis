{
 "cells": [
  {
   "attachments": {},
   "cell_type": "markdown",
   "metadata": {},
   "source": [
    "# Author Ranking\n",
    "Creating a ranking of the authors who published the most to CIAA\n",
    "###### Nils Dyck, 10.05.2023"
   ]
  },
  {
   "cell_type": "code",
   "execution_count": 12,
   "metadata": {},
   "outputs": [],
   "source": [
    "import pandas as pd\n",
    "\n",
    "df = pd.read_csv('../data/cleaned/CIAA-CIAA.csv', sep=';')\n",
    "df = df.loc[df['Year']<2022]\n",
    "everyone = df['Author-URL'].to_list()\n",
    "authors = set(everyone)\n",
    "\n",
    "dfm = pd.read_csv('../data/cleaned/CIAA-CIAA_m2.csv', sep=';')\n",
    "dfm = dfm.loc[dfm['Year']<2022]\n",
    "\n",
    "# df = pd.read_csv('../data/cleaned/DATASET2.csv', sep=';')\n",
    "# df = df.loc[df['Year']<2022]\n",
    "# everyone = df['Author-URL'].to_list()\n",
    "# authors = set(everyone)"
   ]
  },
  {
   "attachments": {},
   "cell_type": "markdown",
   "metadata": {},
   "source": [
    "Number of papers."
   ]
  },
  {
   "cell_type": "code",
   "execution_count": 13,
   "metadata": {},
   "outputs": [],
   "source": [
    "def get_name(url):\n",
    "    name = df.loc[df['Author-URL']==url]\n",
    "    name = name['Author'].to_list()\n",
    "    name = repr(name[0]).replace('[','').replace(']','').replace('\"','').replace(\"'\",'')\n",
    "    return name\n",
    "\n",
    "paper_ranking = {}\n",
    "fractional_ranking = {}\n",
    "co_worker_ranking = {}\n",
    "collaboration_weight = {}\n",
    "collaboration_weight_urls = {}\n",
    "for author in authors:\n",
    "    papers = everyone.count(author)\n",
    "    name = df.loc[df['Author-URL']==author]\n",
    "    name = name['Author'].to_list()\n",
    "    name = repr(name[0]).replace('[','').replace(']','').replace('\"','').replace(\"'\",'')    \n",
    "    paper_ranking[name] = papers\n",
    "    papers = df.loc[df['Author-URL']==author]\n",
    "    co_authors = papers['Co-Author-URLs'].to_list()\n",
    "    fraction = 0\n",
    "    co_workers = []\n",
    "    for l in co_authors:\n",
    "        l = l.replace('[','').replace(']','').replace('\"','').replace(\"'\",'') \n",
    "        l = l.split(', ')\n",
    "        for i in l:\n",
    "            if i != '':\n",
    "                if collaboration_weight.get((name,get_name(i))):\n",
    "                    collaboration_weight[(name,get_name(i))] += 1\n",
    "                    collaboration_weight_urls[(author,i)] += 1\n",
    "                else:\n",
    "                    collaboration_weight[(name,get_name(i))] = 1\n",
    "                    collaboration_weight_urls[(author,i)] = 1\n",
    "        fraction += (1/(len(l)+1))\n",
    "        co_workers += l\n",
    "    co_workers = set(co_workers)\n",
    "    co_workers = [entry for entry in co_workers if entry != '']\n",
    "    co_worker_ranking[name] = len(co_workers)\n",
    "    fractional_ranking[name] = fraction\n",
    "\n",
    "paper_ranking_sorted = dict(sorted(paper_ranking.items(), key=lambda item: item[1], reverse=True))\n",
    "fractional_ranking_sorted = dict(sorted(fractional_ranking.items(), key=lambda item: item[1], reverse=True))\n",
    "co_worker_ranking_sorted = dict(sorted(co_worker_ranking.items(), key=lambda item: item[1], reverse=True))\n",
    "collaboration_weight_sorted = dict(sorted(collaboration_weight.items(), key=lambda item: item[1], reverse=True))\n",
    "\n",
    "#delete duplicates in collaboration weight\n",
    "keys = list(collaboration_weight_sorted.keys())\n",
    "control = set(keys)\n",
    "for key in keys:\n",
    "    if set(key) in control:\n",
    "        del collaboration_weight_sorted[(key[1],key[0])]\n",
    "        control.remove(set(key))\n",
    "\n",
    "top10_papers = list(paper_ranking_sorted.items())[:10]\n",
    "top10_fractional = list(fractional_ranking_sorted.items())[:10]\n",
    "top10_co_workers = list(co_worker_ranking_sorted.items())[:10]\n",
    "top10_collaboration_weights = list(collaboration_weight_sorted.items())[:10]"
   ]
  },
  {
   "cell_type": "code",
   "execution_count": 14,
   "metadata": {},
   "outputs": [
    {
     "data": {
      "text/plain": [
       "[(('Markus Holzer', 'Martin Kutrib'), 6.0),\n",
       " (('Cyril Allauzen', 'Mehryar Mohri'), 4.25),\n",
       " (('Andreas Malcher', 'Martin Kutrib'), 4.25),\n",
       " (('Jacques Sakarovitch', 'Sylvain Lombardy'), 4.166666666666667),\n",
       " (('Nelma Moreira', 'Rogério Reis'), 3.75),\n",
       " (('Martin Kutrib', 'Matthias Wendlandt'), 3.75),\n",
       " (('Kai Salomaa', 'Sheng Yu'), 3.6666666666666665),\n",
       " (('Sang-Ki Ko', 'Yo-Sub Han'), 3.5),\n",
       " (('Djelloul Ziadi', 'Jean-Marc Champarnaud'), 2.833333333333333),\n",
       " (('Cyril Allauzen', 'Michael D. Riley'), 2.75)]"
      ]
     },
     "execution_count": 14,
     "metadata": {},
     "output_type": "execute_result"
    }
   ],
   "source": [
    "# calculate newman collaboration weight\n",
    "collabs = set(list(collaboration_weight_urls.keys()))\n",
    "newman_collab = {}\n",
    "for entry in collabs:\n",
    "    papers = dfm.loc[dfm['Author']==entry[0]]\n",
    "    papers_together = papers.loc[papers['Co-Authors'].apply(lambda x: entry[1] in x)]\n",
    "    no_authors = papers_together['No Authors'].to_list()\n",
    "    erg = 0\n",
    "    for n in no_authors:\n",
    "        erg += (1/(n-1))\n",
    "    newman_collab[get_name(entry[0]),get_name(entry[1])] = erg\n",
    "\n",
    "#remove duplicates from dictionary\n",
    "newman_collab_sorted = {}\n",
    "key_set = set(newman_collab.keys())\n",
    "\n",
    "for key in key_set:\n",
    "    newman_collab_sorted[key] = newman_collab[key]\n",
    "newman_collab_modified = {}\n",
    "for key, value in newman_collab_sorted.items():\n",
    "    modified_key = tuple(element.replace(\",\", \"\").replace(\"'\", \"\").replace(\"(\", \"\").replace(\")\", \"\") for element in key)\n",
    "    newman_collab_modified[modified_key] = value\n",
    "\n",
    "newman_collab_sorted = {(a, b): value for (a, b), value in newman_collab_modified.items() if a <= b}\n",
    "newman_collab_modified = {}\n",
    "for key, value in newman_collab_sorted.items():\n",
    "    modified_key = tuple(element.replace(\",\", \"\").replace(\"'\", \"\").replace(\"(\", \"\").replace(\")\", \"\") for element in key)\n",
    "    newman_collab_modified[modified_key] = value\n",
    "top10_newman_collab = sorted(newman_collab_modified.items(), key=lambda item: item[1], reverse=True)[:10]\n",
    "top10_newman_collab"
   ]
  },
  {
   "cell_type": "code",
   "execution_count": 15,
   "metadata": {},
   "outputs": [
    {
     "name": "stdout",
     "output_type": "stream",
     "text": [
      "\\begin{tabular}{lr}\n",
      "\\hline\n",
      "                                             &   collaboration weight (Newman) \\\\\n",
      "\\hline\n",
      " ('Markus Holzer', 'Martin Kutrib')          &                         6       \\\\\n",
      " ('Cyril Allauzen', 'Mehryar Mohri')         &                         4.25    \\\\\n",
      " ('Andreas Malcher', 'Martin Kutrib')        &                         4.25    \\\\\n",
      " ('Jacques Sakarovitch', 'Sylvain Lombardy') &                         4.16667 \\\\\n",
      " ('Nelma Moreira', 'Rogério Reis')           &                         3.75    \\\\\n",
      " ('Martin Kutrib', 'Matthias Wendlandt')     &                         3.75    \\\\\n",
      " ('Kai Salomaa', 'Sheng Yu')                 &                         3.66667 \\\\\n",
      " ('Sang-Ki Ko', 'Yo-Sub Han')                &                         3.5     \\\\\n",
      " ('Djelloul Ziadi', 'Jean-Marc Champarnaud') &                         2.83333 \\\\\n",
      " ('Cyril Allauzen', 'Michael D. Riley')      &                         2.75    \\\\\n",
      "\\hline\n",
      "\\end{tabular}\n"
     ]
    }
   ],
   "source": [
    "from tabulate import tabulate\n",
    "\n",
    "headers = ['number of papers']\n",
    "table1 = tabulate(top10_papers, headers, tablefmt='latex')\n",
    "#print(table1)\n",
    "\n",
    "headers = ['fractional no. of papers']\n",
    "table2 = tabulate(top10_fractional, headers, tablefmt='latex')\n",
    "#print(table2)\n",
    "\n",
    "headers = ['number of co-workers']\n",
    "table3 = tabulate(top10_co_workers, headers, tablefmt='latex')\n",
    "#print(table1)\n",
    "\n",
    "headers = ['collaboration weight']\n",
    "table4 = tabulate(top10_collaboration_weights, headers, tablefmt='latex')\n",
    "#print(table4)\n",
    "\n",
    "headers = ['collaboration weight (Newman)']\n",
    "table5 = tabulate(top10_newman_collab, headers, tablefmt='latex')\n",
    "print(table5)"
   ]
  },
  {
   "cell_type": "code",
   "execution_count": 16,
   "metadata": {},
   "outputs": [
    {
     "name": "stdout",
     "output_type": "stream",
     "text": [
      "\\begin{tabular}{lr}\n",
      "\\hline\n",
      "                       &   fractional no. of papers \\\\\n",
      "\\hline\n",
      " A. N. Trahtman        &                   10       \\\\\n",
      " Andreas Maletti       &                    9.08333 \\\\\n",
      " Bruce W. Watson       &                    9       \\\\\n",
      " Martin Kutrib         &                    8.2     \\\\\n",
      " Oscar H. Ibarra       &                    7.58333 \\\\\n",
      " Markus Holzer         &                    7       \\\\\n",
      " Mehryar Mohri         &                    6.86667 \\\\\n",
      " Jean-Marc Champarnaud &                    6.81667 \\\\\n",
      " Borivoj Melichar      &                    6.23333 \\\\\n",
      " Johanna Björklund     &                    6       \\\\\n",
      " Kai Salomaa           &                    6       \\\\\n",
      "\\hline\n",
      "\\end{tabular}\n"
     ]
    }
   ],
   "source": [
    "fractional_ranking = {}\n",
    "for author in authors:\n",
    "    count = dfm['No Authors'].loc[dfm['Author']==author].to_list()\n",
    "    name = df.loc[df['Author-URL']==author]\n",
    "    name = name['Author'].to_list()\n",
    "    name = repr(name[0]).replace('[','').replace(']','').replace('\"','').replace(\"'\",'')\n",
    "    res = 0\n",
    "    for i in count:\n",
    "        res += 1/i\n",
    "    fractional_ranking[name] = res\n",
    "fractional_ranking_sorted = dict(sorted(fractional_ranking.items(), key=lambda item: item[1], reverse=True))\n",
    "top10_fractional = list(fractional_ranking_sorted.items())[:11]\n",
    "headers = ['fractional no. of papers']\n",
    "table2 = tabulate(top10_fractional, headers, tablefmt='latex')\n",
    "print(table2)\n"
   ]
  },
  {
   "cell_type": "code",
   "execution_count": 17,
   "metadata": {},
   "outputs": [
    {
     "name": "stdout",
     "output_type": "stream",
     "text": [
      "9.0\n"
     ]
    }
   ],
   "source": [
    "print(fractional_ranking_sorted['Bruce W. Watson'])"
   ]
  },
  {
   "cell_type": "markdown",
   "metadata": {},
   "source": []
  },
  {
   "attachments": {},
   "cell_type": "markdown",
   "metadata": {},
   "source": [
    "Mean collaborators per author."
   ]
  },
  {
   "cell_type": "code",
   "execution_count": 18,
   "metadata": {},
   "outputs": [
    {
     "data": {
      "text/plain": [
       "2.567342073897497"
      ]
     },
     "execution_count": 18,
     "metadata": {},
     "output_type": "execute_result"
    }
   ],
   "source": [
    "import statistics\n",
    "\n",
    "mean = statistics.mean(co_worker_ranking.values())\n",
    "mean"
   ]
  },
  {
   "attachments": {},
   "cell_type": "markdown",
   "metadata": {},
   "source": [
    "### Collaboration Power Law"
   ]
  },
  {
   "cell_type": "code",
   "execution_count": 19,
   "metadata": {},
   "outputs": [
    {
     "name": "stdout",
     "output_type": "stream",
     "text": [
      "Intel MKL WARNING: Support of Intel(R) Streaming SIMD Extensions 4.2 (Intel(R) SSE4.2) enabled only processors has been deprecated. Intel oneAPI Math Kernel Library 2025.0 will require Intel(R) Advanced Vector Extensions (Intel(R) AVX) instructions.\n"
     ]
    },
    {
     "data": {
      "image/png": "[encoded data removed]",
      "text/plain": [
       "<Figure size 1000x700 with 1 Axes>"
      ]
     },
     "metadata": {},
     "output_type": "display_data"
    }
   ],
   "source": [
    "import matplotlib.pyplot as plt, numpy as np, math\n",
    "from scipy.optimize import curve_fit\n",
    "\n",
    "plt.figure(figsize=(10,7))\n",
    "plt.rcParams['font.family'] = 'serif'\n",
    "plt.rc('font', size=20)\n",
    "\n",
    "# Define the power-law function\n",
    "def power_law(x, a, b):\n",
    "    return a * np.power(x, b)\n",
    "\n",
    "# Initiate data\n",
    "x = np.linspace(1,22,22)\n",
    "y = [list(co_worker_ranking.values()).count(i) for i in range(1,23)]\n",
    "x_fit = x[2:]\n",
    "y_fit = y[2:]\n",
    "\n",
    "# Fit the power-law function to the data\n",
    "popt, pcov = curve_fit(power_law, x_fit, y_fit)\n",
    "\n",
    "# Plot the fitted power-law curve\n",
    "y_fit = power_law(x_fit, *popt)\n",
    "plt.loglog(x_fit, y_fit, '--b', label='fit')\n",
    "\n",
    "# Plot the data on a log-log scale\n",
    "plt.loglog(x, y, 'or', label='data')\n",
    "\n",
    "# Add labels and legend\n",
    "plt.xlabel('Number of Collaborators')\n",
    "plt.ylabel('Number of Authors')\n",
    "plt.legend()\n",
    "#plt.axis((0.9e0,0.3e2,0.75e0,1e3))\n",
    "\n",
    "plt.savefig('../../Figures/ciaa_collab_power-law.png', bbox_inches='tight')"
   ]
  },
  {
   "attachments": {},
   "cell_type": "markdown",
   "metadata": {},
   "source": [
    "## CIAA-ALL"
   ]
  },
  {
   "cell_type": "code",
   "execution_count": 20,
   "metadata": {},
   "outputs": [
    {
     "data": {
      "text/plain": [
       "[('Cheng Li', 953),\n",
       " ('Alois C. Knoll', 849),\n",
       " ('Fei Xie', 527),\n",
       " ('Václav Snásel', 410),\n",
       " ('Xiaoyu Song', 372),\n",
       " ('Axel Legay', 364),\n",
       " ('Madhav V. Marathe', 362),\n",
       " ('Yong Sun', 349),\n",
       " ('Moshe Y. Vardi', 342),\n",
       " ('Kim Guldstrand Larsen', 339)]"
      ]
     },
     "execution_count": 20,
     "metadata": {},
     "output_type": "execute_result"
    }
   ],
   "source": [
    "df = pd.read_csv('../data/cleaned/DATASET3.csv', sep=';')\n",
    "df = df.loc[df['Year']<2022]\n",
    "everyone = df['Author-URL'].to_list()\n",
    "authors = set(everyone)\n",
    "\n",
    "paper_ranking = {}\n",
    "fractional_ranking = {}\n",
    "co_worker_ranking = {}\n",
    "for author in authors:\n",
    "    papers = everyone.count(author)\n",
    "    name = df.loc[df['Author-URL']==author]\n",
    "    name = name['Author'].to_list()\n",
    "    name = repr(name[0]).replace('[','').replace(']','').replace('\"','').replace(\"'\",'')    \n",
    "    paper_ranking[name] = papers\n",
    "    papers = df.loc[df['Author-URL']==author]\n",
    "    co_authors = papers['Co-Author-URLs'].to_list()\n",
    "    fraction = 0\n",
    "    co_workers = []\n",
    "    for l in co_authors:\n",
    "        l = l.replace('[','').replace(']','').replace('\"','').replace(\"'\",'') \n",
    "        l = l.split(', ')\n",
    "        fraction += (1/(len(l)+1))\n",
    "        co_workers += l\n",
    "    co_workers = set(co_workers)\n",
    "    co_workers = [entry for entry in co_workers if entry != '']\n",
    "    co_worker_ranking[name] = len(co_workers)\n",
    "    fractional_ranking[name] = fraction\n",
    "\n",
    "paper_ranking_sorted = dict(sorted(paper_ranking.items(), key=lambda item: item[1], reverse=True))\n",
    "fractional_ranking_sorted = dict(sorted(fractional_ranking.items(), key=lambda item: item[1], reverse=True))\n",
    "co_worker_ranking_sorted = dict(sorted(co_worker_ranking.items(), key=lambda item: item[1], reverse=True))\n",
    "\n",
    "top10_papers = list(paper_ranking_sorted.items())[:10]\n",
    "top10_fractional = list(fractional_ranking_sorted.items())[:10]\n",
    "top10_co_workers =list(co_worker_ranking_sorted.items())[:10]\n",
    "top10_co_workers"
   ]
  },
  {
   "cell_type": "code",
   "execution_count": 21,
   "metadata": {},
   "outputs": [
    {
     "name": "stdout",
     "output_type": "stream",
     "text": [
      "\\begin{tabular}{lr}\n",
      "\\hline\n",
      "                       &   number of papers \\\\\n",
      "\\hline\n",
      " Moshe Y. Vardi        &                720 \\\\\n",
      " Alois C. Knoll        &                700 \\\\\n",
      " Grzegorz Rozenberg    &                614 \\\\\n",
      " Václav Snásel         &                604 \\\\\n",
      " Gonzalo Navarro       &                578 \\\\\n",
      " Thomas A. Henzinger   &                527 \\\\\n",
      " B. Sundar Rajan       &                500 \\\\\n",
      " Kim Guldstrand Larsen &                499 \\\\\n",
      " Axel Legay            &                437 \\\\\n",
      " Oscar H. Ibarra       &                415 \\\\\n",
      "\\hline\n",
      "\\end{tabular}\n"
     ]
    }
   ],
   "source": [
    "from tabulate import tabulate\n",
    "\n",
    "headers = ['number of papers']\n",
    "table1 = tabulate(top10_papers, headers, tablefmt='latex')\n",
    "#print(table1)\n",
    "\n",
    "headers = ['fractional no. of papers']\n",
    "table2 = tabulate(top10_fractional, headers, tablefmt='latex')\n",
    "#print(table2)\n",
    "\n",
    "headers = ['number of co-workers']\n",
    "table3 = tabulate(top10_co_workers, headers, tablefmt='latex')\n",
    "print(table1)"
   ]
  },
  {
   "cell_type": "code",
   "execution_count": 22,
   "metadata": {},
   "outputs": [
    {
     "data": {
      "text/plain": [
       "45.106078665077476"
      ]
     },
     "execution_count": 22,
     "metadata": {},
     "output_type": "execute_result"
    }
   ],
   "source": [
    "mean = statistics.mean(co_worker_ranking.values())\n",
    "mean"
   ]
  }
 ],
 "metadata": {
  "kernelspec": {
   "display_name": "base",
   "language": "python",
   "name": "python3"
  },
  "language_info": {
   "codemirror_mode": {
    "name": "ipython",
    "version": 3
   },
   "file_extension": ".py",
   "mimetype": "text/x-python",
   "name": "python",
   "nbconvert_exporter": "python",
   "pygments_lexer": "ipython3",
   "version": "3.9.16"
  },
  "orig_nbformat": 4
 },
 "nbformat": 4,
 "nbformat_minor": 2
}
