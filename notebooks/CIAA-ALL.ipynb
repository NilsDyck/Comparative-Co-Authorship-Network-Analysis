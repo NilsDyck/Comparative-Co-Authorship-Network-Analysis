{
 "cells": [
  {
   "attachments": {},
   "cell_type": "markdown",
   "metadata": {},
   "source": [
    "# CIAA-ALL\n",
    "Working with the CIAA-ALL dataset.\n",
    "###### Nils Dyck, 12.05.2023"
   ]
  },
  {
   "cell_type": "code",
   "execution_count": 120,
   "metadata": {},
   "outputs": [],
   "source": [
    "import pandas as pd\n",
    "\n",
    "df = pd.read_csv('../data/cleaned/DATASET2.csv',sep=';') \n",
    "# df = pd.read_csv('../data/cleaned/DCFS-ALL.csv', sep=';')\n",
    "df = df.loc[df['Year']<2022]\n",
    "df_m = df.drop_duplicates(subset='Title')"
   ]
  },
  {
   "cell_type": "code",
   "execution_count": 121,
   "metadata": {},
   "outputs": [
    {
     "data": {
      "text/plain": [
       "863"
      ]
     },
     "execution_count": 121,
     "metadata": {},
     "output_type": "execute_result"
    }
   ],
   "source": [
    "authors = df['Author-URL'].to_list()\n",
    "everyone = authors\n",
    "len(set(authors))"
   ]
  },
  {
   "cell_type": "code",
   "execution_count": 122,
   "metadata": {},
   "outputs": [
    {
     "data": {
      "text/plain": [
       "(40459, 10)"
      ]
     },
     "execution_count": 122,
     "metadata": {},
     "output_type": "execute_result"
    }
   ],
   "source": [
    "df_m.shape"
   ]
  },
  {
   "attachments": {},
   "cell_type": "markdown",
   "metadata": {},
   "source": [
    "Is there a 'NONE'-problem within the titles?"
   ]
  },
  {
   "cell_type": "code",
   "execution_count": 123,
   "metadata": {},
   "outputs": [],
   "source": [
    "df_none = df.loc[df['Title']=='None']\n",
    "df_none.to_csv('../data/cleaned/CIAA-ALL_None.csv', sep=';',index=False)"
   ]
  },
  {
   "cell_type": "code",
   "execution_count": 124,
   "metadata": {},
   "outputs": [
    {
     "name": "stdout",
     "output_type": "stream",
     "text": [
      "863\n"
     ]
    }
   ],
   "source": [
    "authors = df['Author-URL'].drop_duplicates().to_list()\n",
    "print(len(authors))"
   ]
  },
  {
   "attachments": {},
   "cell_type": "markdown",
   "metadata": {},
   "source": [
    "As there are more authors in the CIAA-ALL dataset than in the CIAA-CIAA dataset, we need to compare both datasets and find the overhanging authors."
   ]
  },
  {
   "cell_type": "code",
   "execution_count": 125,
   "metadata": {},
   "outputs": [
    {
     "data": {
      "text/plain": [
       "839"
      ]
     },
     "execution_count": 125,
     "metadata": {},
     "output_type": "execute_result"
    }
   ],
   "source": [
    "ciaa = pd.read_csv('../data/cleaned/CIAA-CIAA_m2.csv', sep=';')\n",
    "# ciaa = pd.read_csv('../data/cleaned/DCFS-DCFS_m2.csv', sep=';')\n",
    "ciaa = ciaa.loc[ciaa['Year']<2022]\n",
    "ciaa_authors = ciaa['Author'].drop_duplicates().to_list()\n",
    "len(ciaa_authors)"
   ]
  },
  {
   "cell_type": "code",
   "execution_count": 126,
   "metadata": {},
   "outputs": [
    {
     "data": {
      "text/plain": [
       "['https://dblp.uni-trier.de/pid/228/6835.html',\n",
       " 'https://dblp.uni-trier.de/pid/75/4426.html',\n",
       " 'https://dblp.uni-trier.de/pid/11/4210.html',\n",
       " 'https://dblp.uni-trier.de/pid/04/704.html',\n",
       " 'https://dblp.uni-trier.de/pid/265/6260.html',\n",
       " 'https://dblp.uni-trier.de/pid/181/2007-1.html',\n",
       " 'https://dblp.uni-trier.de/pid/09/4711.html',\n",
       " 'https://dblp.uni-trier.de/pid/70/6536-3.html',\n",
       " 'https://dblp.uni-trier.de/pid/v/HeikoVogler.html',\n",
       " 'https://dblp.uni-trier.de/pid/16/1677.html',\n",
       " 'https://dblp.uni-trier.de/pid/191/3141-1.html',\n",
       " 'https://dblp.uni-trier.de/pid/84/635.html',\n",
       " 'https://dblp.uni-trier.de/pid/27/4119.html',\n",
       " 'https://dblp.uni-trier.de/pid/212/4580.html',\n",
       " 'https://dblp.uni-trier.de/pid/20/2344.html',\n",
       " 'https://dblp.uni-trier.de/pid/22/5692.html',\n",
       " 'https://dblp.uni-trier.de/pid/292/7939.html',\n",
       " 'https://dblp.uni-trier.de/pid/259/0271.html',\n",
       " 'https://dblp.uni-trier.de/pid/c/ArnaudCarayol.html',\n",
       " 'https://dblp.uni-trier.de/pid/263/2917.html',\n",
       " 'https://dblp.uni-trier.de/pid/09/4485.html',\n",
       " 'https://dblp.uni-trier.de/pid/267/9809.html',\n",
       " 'https://dblp.uni-trier.de/pid/130/3850.html',\n",
       " 'https://dblp.uni-trier.de/pid/61/61.html']"
      ]
     },
     "execution_count": 126,
     "metadata": {},
     "output_type": "execute_result"
    }
   ],
   "source": [
    "missing_in_ciaa = [author for author in authors if author not in ciaa_authors]\n",
    "missing_in_ciaa"
   ]
  },
  {
   "attachments": {},
   "cell_type": "markdown",
   "metadata": {},
   "source": [
    "Deleting the authors who only published at 2022 to CIAA."
   ]
  },
  {
   "cell_type": "code",
   "execution_count": 127,
   "metadata": {},
   "outputs": [
    {
     "data": {
      "text/plain": [
       "(39829, 10)"
      ]
     },
     "execution_count": 127,
     "metadata": {},
     "output_type": "execute_result"
    }
   ],
   "source": [
    "df = df.loc[~(df['Author-URL'].isin(missing_in_ciaa))]\n",
    "df_m = df.drop_duplicates(subset='Title')\n",
    "authors = df['Author-URL'].drop_duplicates().to_list()\n",
    "titles = df.drop_duplicates(subset='Title')\n",
    "df_m.shape"
   ]
  },
  {
   "attachments": {},
   "cell_type": "markdown",
   "metadata": {},
   "source": [
    "### Mean number of authors and power law"
   ]
  },
  {
   "cell_type": "code",
   "execution_count": 128,
   "metadata": {},
   "outputs": [
    {
     "name": "stdout",
     "output_type": "stream",
     "text": [
      "839\n"
     ]
    },
    {
     "data": {
      "text/plain": [
       "65.51489868891538"
      ]
     },
     "execution_count": 128,
     "metadata": {},
     "output_type": "execute_result"
    }
   ],
   "source": [
    "authors = df['Author-URL'].to_list()\n",
    "print(len(set(authors)))\n",
    "paper_author_list = [0 for i in range(721)]\n",
    "papers_per_author = []\n",
    "\n",
    "for author in set(authors):\n",
    "    res = authors.count(author)\n",
    "    papers_per_author.append(res)\n",
    "    paper_author_list[res] += 1\n",
    "\n",
    "mean = sum(papers_per_author)/len(papers_per_author)\n",
    "mean"
   ]
  },
  {
   "cell_type": "code",
   "execution_count": 129,
   "metadata": {},
   "outputs": [
    {
     "name": "stdout",
     "output_type": "stream",
     "text": [
      "Intel MKL WARNING: Support of Intel(R) Streaming SIMD Extensions 4.2 (Intel(R) SSE4.2) enabled only processors has been deprecated. Intel oneAPI Math Kernel Library 2025.0 will require Intel(R) Advanced Vector Extensions (Intel(R) AVX) instructions.\n"
     ]
    },
    {
     "data": {
      "image/png": "[encoded data removed]",
      "text/plain": [
       "<Figure size 1000x700 with 1 Axes>"
      ]
     },
     "metadata": {},
     "output_type": "display_data"
    }
   ],
   "source": [
    "import matplotlib.pyplot as plt, numpy as np, math\n",
    "from scipy.optimize import curve_fit\n",
    "\n",
    "plt.figure(figsize=(10,7))\n",
    "\n",
    "# Define the power-law function\n",
    "def power_law(x, a, b):\n",
    "    return a * np.power(x, b)\n",
    "\n",
    "# Initiate data\n",
    "x = np.linspace(0,721,721)\n",
    "y = paper_author_list\n",
    "x_fit = np.linspace(5,671,666)\n",
    "y_fit = paper_author_list[5:-50]\n",
    "\n",
    "# Fit the power-law function to the data\n",
    "popt, pcov = curve_fit(power_law, x_fit, y_fit)\n",
    "\n",
    "# Plot the fitted power-law curve\n",
    "y_fit = power_law(x_fit, *popt)\n",
    "plt.loglog(x_fit, y_fit, '--b', label='fit')\n",
    "\n",
    "# Plot the data on a log-log scale\n",
    "plt.loglog(x, y, 'or', label='data')\n",
    "\n",
    "# Add labels and legend\n",
    "plt.xlabel('Number of Papers')\n",
    "plt.ylabel('Number of Authors')\n",
    "plt.legend()\n",
    "plt.axis((0.9e0,1e3,0.75e0,1e2))\n",
    "\n",
    "plt.show()"
   ]
  },
  {
   "cell_type": "code",
   "execution_count": 130,
   "metadata": {},
   "outputs": [
    {
     "name": "stdout",
     "output_type": "stream",
     "text": [
      "117.83708636972621\n",
      "-0.9055619123069555\n"
     ]
    }
   ],
   "source": [
    "a = popt[0]\n",
    "b = popt[1]\n",
    "print(a)\n",
    "print(b)"
   ]
  },
  {
   "attachments": {},
   "cell_type": "markdown",
   "metadata": {},
   "source": [
    "Mean number of authors per paper"
   ]
  },
  {
   "cell_type": "code",
   "execution_count": 131,
   "metadata": {},
   "outputs": [
    {
     "data": {
      "text/plain": [
       "3.1906650932737453"
      ]
     },
     "execution_count": 131,
     "metadata": {},
     "output_type": "execute_result"
    }
   ],
   "source": [
    "co_author_urls = titles['Co-Author-URLs'].to_list()\n",
    "no_authors = []\n",
    "for entries in co_author_urls:\n",
    "    if entries == '[]': no_authors.append(1)\n",
    "    else:\n",
    "        entries = entries.replace('[','').replace(']','').replace('\"','').replace(\"'\",'') \n",
    "        entries = entries.split(', ')\n",
    "        no_authors.append(len(entries)+1)\n",
    "sum(no_authors)/len(no_authors)"
   ]
  },
  {
   "cell_type": "markdown",
   "metadata": {},
   "source": [
    "## Creating the network"
   ]
  },
  {
   "cell_type": "code",
   "execution_count": 132,
   "metadata": {},
   "outputs": [],
   "source": [
    "import networkx as nx\n",
    "\n",
    "G = nx.Graph()\n",
    "\n",
    "authors = df['Author-URL'].to_list()\n",
    "co_authors = df['Co-Author-URLs'].to_list()\n",
    "\n",
    "G.add_nodes_from(set(authors))\n",
    "\n",
    "for i in range(len(authors)):    \n",
    "    entries = co_authors[i].replace('[','').replace(']','').replace('\"','').replace(\"'\",'') \n",
    "    if entries != '':\n",
    "        entries = entries.split(', ')\n",
    "        for entry in entries:\n",
    "            G.add_edge(authors[i],entry)\n",
    "G.number_of_nodes()\n",
    "\n",
    "with open('../../CIAA-ALL'+str(i)+'.txt', 'a') as f:\n",
    "        for edge in G.edges():\n",
    "            f.write(edge[0]+' '+edge[1]+'\\n')"
   ]
  },
  {
   "cell_type": "code",
   "execution_count": 133,
   "metadata": {},
   "outputs": [
    {
     "data": {
      "text/plain": [
       "25288"
      ]
     },
     "execution_count": 133,
     "metadata": {},
     "output_type": "execute_result"
    }
   ],
   "source": [
    "components = nx.connected_components(G)\n",
    "giant_component = sorted(components, key=len, reverse=True)[0]\n",
    "len(giant_component)"
   ]
  },
  {
   "cell_type": "code",
   "execution_count": 134,
   "metadata": {},
   "outputs": [
    {
     "data": {
      "text/plain": [
       "25425"
      ]
     },
     "execution_count": 134,
     "metadata": {},
     "output_type": "execute_result"
    }
   ],
   "source": [
    "G.number_of_nodes()"
   ]
  },
  {
   "cell_type": "code",
   "execution_count": 135,
   "metadata": {},
   "outputs": [
    {
     "name": "stdout",
     "output_type": "stream",
     "text": [
      "Average Degree: 45.106078665077476\n"
     ]
    }
   ],
   "source": [
    "degrees = dict(nx.degree(G))\n",
    "\n",
    "degrees = {key: value for key,value in degrees.items() if key in authors}\n",
    "\n",
    "average_degree = sum(degrees.values()) / len(degrees)\n",
    "\n",
    "print(\"Average Degree:\", average_degree)"
   ]
  },
  {
   "cell_type": "code",
   "execution_count": 136,
   "metadata": {},
   "outputs": [
    {
     "data": {
      "text/plain": [
       "0.13071797384661413"
      ]
     },
     "execution_count": 136,
     "metadata": {},
     "output_type": "execute_result"
    }
   ],
   "source": [
    "nx.average_clustering(G)"
   ]
  },
  {
   "cell_type": "code",
   "execution_count": 137,
   "metadata": {},
   "outputs": [
    {
     "data": {
      "text/plain": [
       "839"
      ]
     },
     "execution_count": 137,
     "metadata": {},
     "output_type": "execute_result"
    }
   ],
   "source": [
    "G = G.subgraph(set(authors))\n",
    "G.number_of_nodes()"
   ]
  },
  {
   "cell_type": "code",
   "execution_count": 138,
   "metadata": {},
   "outputs": [
    {
     "name": "stdout",
     "output_type": "stream",
     "text": [
      "size of giant component: 709\n",
      "relative size of giant component: 0.8450536352800954\n"
     ]
    }
   ],
   "source": [
    "components = nx.connected_components(G)\n",
    "giant_component = sorted(components, key=len, reverse=True)[0]\n",
    "print('size of giant component: '+str(len(giant_component)))\n",
    "print('relative size of giant component: '+str(len(giant_component)/G.number_of_nodes()))"
   ]
  },
  {
   "cell_type": "code",
   "execution_count": 139,
   "metadata": {},
   "outputs": [
    {
     "name": "stdout",
     "output_type": "stream",
     "text": [
      "size of second component: 8\n",
      "relative size of second component: 0.009535160905840286\n"
     ]
    }
   ],
   "source": [
    "components = nx.connected_components(G)\n",
    "giant_component = sorted(components, key=len, reverse=True)[1]\n",
    "print('size of second component: '+str(len(giant_component)))\n",
    "print('relative size of second component: '+str(len(giant_component)/G.number_of_nodes()))"
   ]
  },
  {
   "cell_type": "code",
   "execution_count": 140,
   "metadata": {},
   "outputs": [
    {
     "name": "stdout",
     "output_type": "stream",
     "text": [
      "mean distance: 4.688990620990812\n",
      "maximum distance: 12\n",
      "clustering coefficient: 0.489689987216481\n"
     ]
    }
   ],
   "source": [
    "components =  nx.connected_components(G)\n",
    "giant_component_graph = G.subgraph(sorted(components, key=len, reverse=True)[0])\n",
    "print('mean distance: '+str(nx.average_shortest_path_length(giant_component_graph)))\n",
    "print('maximum distance: '+str(max(nx.eccentricity(giant_component_graph).values())))\n",
    "print('clustering coefficient: '+str(nx.average_clustering(G)))"
   ]
  },
  {
   "cell_type": "code",
   "execution_count": null,
   "metadata": {},
   "outputs": [],
   "source": []
  },
  {
   "cell_type": "code",
   "execution_count": 142,
   "metadata": {},
   "outputs": [],
   "source": [
    "ciaa_author_dict = pd.read_csv('../data/processed/CIAA-authors.csv', sep=';')\n",
    "dcfs_author_dict = pd.read_csv('../data/processed/DCFS-authors.csv', sep=';')\n",
    "\n",
    "ciaa_author_dict = {ciaa_author_dict['URL'].to_list()[i]: ciaa_author_dict['Name'].to_list()[i] for i in range(len(ciaa_author_dict['URL'].to_list()))}\n",
    "dcfs_author_dict = {dcfs_author_dict['URL'].to_list()[i]: dcfs_author_dict['Name'].to_list()[i] for i in range(len(dcfs_author_dict['URL'].to_list()))}\n",
    "\n",
    "def get_Name(url, venue):\n",
    "    if venue == 'CIAA': return ciaa_author_dict[url]\n",
    "    elif venue == 'DCFS': return dcfs_author_dict[url]\n",
    "    else: return 'ERROR'\n",
    "# def get_name(url):\n",
    "#     name = df.loc[df['Author-URL']==url]\n",
    "#     name = name['Author'].to_list()\n",
    "#     name = repr(name[0]).replace('[','').replace(']','').replace('\"','').replace(\"'\",'')\n",
    "#     return name\n",
    "\n",
    "paper_ranking = {}\n",
    "fractional_ranking = {}\n",
    "co_worker_ranking = {}\n",
    "collaboration_weight = {}\n",
    "collaboration_weight_urls = {}\n",
    "for author in authors:\n",
    "    papers = everyone.count(author)\n",
    "    name = get_Name(author,'CIAA')\n",
    "    # name = df.loc[df['Author-URL']==author]\n",
    "    # name = name['Author'].to_list()\n",
    "    # name = repr(name[0]).replace('[','').replace(']','').replace('\"','').replace(\"'\",'')    \n",
    "    paper_ranking[name] = papers\n",
    "    papers = df.loc[df['Author-URL']==author]\n",
    "    co_authors = papers['Co-Author-URLs'].to_list()\n",
    "    fraction = 0\n",
    "    co_workers = []\n",
    "    for l in co_authors:\n",
    "        l = l.replace('[','').replace(']','').replace('\"','').replace(\"'\",'') \n",
    "        l = l.split(', ')\n",
    "        # for i in l:\n",
    "        #     if i != '':\n",
    "        #         if collaboration_weight.get((name,get_Name(i,'CIAA'))):\n",
    "        #             collaboration_weight[(name,get_Name(i,'CIAA'))] += 1\n",
    "        #             collaboration_weight_urls[(author,i)] += 1\n",
    "        #         else:\n",
    "        #             collaboration_weight[(name,get_Name(i,'CIAA'))] = 1\n",
    "        #             collaboration_weight_urls[(author,i)] = 1\n",
    "        fraction += (1/(len(l)+1))\n",
    "        co_workers += l\n",
    "    co_workers = set(co_workers)\n",
    "    co_workers = [entry for entry in co_workers if entry != '']\n",
    "    co_worker_ranking[name] = len(co_workers)\n",
    "    fractional_ranking[name] = fraction\n",
    "\n",
    "paper_ranking_sorted = dict(sorted(paper_ranking.items(), key=lambda item: item[1], reverse=True))\n",
    "fractional_ranking_sorted = dict(sorted(fractional_ranking.items(), key=lambda item: item[1], reverse=True))\n",
    "co_worker_ranking_sorted = dict(sorted(co_worker_ranking.items(), key=lambda item: item[1], reverse=True))\n",
    "collaboration_weight_sorted = dict(sorted(collaboration_weight.items(), key=lambda item: item[1], reverse=True))\n",
    "\n",
    "#delete duplicates in collaboration weight\n",
    "keys = list(collaboration_weight_sorted.keys())\n",
    "control = set(keys)\n",
    "for key in keys:\n",
    "    if set(key) in control:\n",
    "        del collaboration_weight_sorted[(key[1],key[0])]\n",
    "        control.remove(set(key))\n",
    "\n",
    "top10_papers = list(paper_ranking_sorted.items())[:10]\n",
    "top10_fractional = list(fractional_ranking_sorted.items())[:10]\n",
    "top10_co_workers = list(co_worker_ranking_sorted.items())[:10]\n",
    "top10_collaboration_weights = list(collaboration_weight_sorted.items())[:10]"
   ]
  },
  {
   "cell_type": "code",
   "execution_count": 143,
   "metadata": {},
   "outputs": [
    {
     "name": "stdout",
     "output_type": "stream",
     "text": [
      "\\begin{tabular}{lr}\n",
      "\\hline\n",
      "                       &   number of papers \\\\\n",
      "\\hline\n",
      " Moshe Y. Vardi        &                720 \\\\\n",
      " Alois C. Knoll        &                700 \\\\\n",
      " Grzegorz Rozenberg    &                614 \\\\\n",
      " Václav Snásel         &                604 \\\\\n",
      " Gonzalo Navarro       &                578 \\\\\n",
      " Thomas A. Henzinger   &                527 \\\\\n",
      " B. Sundar Rajan       &                500 \\\\\n",
      " Kim Guldstrand Larsen &                499 \\\\\n",
      " Axel Legay            &                437 \\\\\n",
      " Oscar H. Ibarra       &                415 \\\\\n",
      "\\hline\n",
      "\\end{tabular}\n",
      "\\begin{tabular}{lr}\n",
      "\\hline\n",
      "                     &   fractional no. of papers \\\\\n",
      "\\hline\n",
      " Moshe Y. Vardi      &                    271.354 \\\\\n",
      " Grzegorz Rozenberg  &                    239.629 \\\\\n",
      " B. Sundar Rajan     &                    221.617 \\\\\n",
      " Gonzalo Navarro     &                    208.554 \\\\\n",
      " Alois C. Knoll      &                    177.343 \\\\\n",
      " Thomas A. Henzinger &                    171.479 \\\\\n",
      " Oscar H. Ibarra     &                    168.817 \\\\\n",
      " Václav Snásel       &                    163.626 \\\\\n",
      " Gheorghe Paun       &                    154.067 \\\\\n",
      " Andrzej Pelc        &                    152.26  \\\\\n",
      "\\hline\n",
      "\\end{tabular}\n",
      "\\begin{tabular}{lr}\n",
      "\\hline\n",
      "                       &   number of co-workers \\\\\n",
      "\\hline\n",
      " Cheng Li              &                    953 \\\\\n",
      " Alois C. Knoll        &                    849 \\\\\n",
      " Fei Xie               &                    527 \\\\\n",
      " Václav Snásel         &                    410 \\\\\n",
      " Xiaoyu Song           &                    372 \\\\\n",
      " Axel Legay            &                    364 \\\\\n",
      " Madhav V. Marathe     &                    362 \\\\\n",
      " Yong Sun              &                    349 \\\\\n",
      " Moshe Y. Vardi        &                    342 \\\\\n",
      " Kim Guldstrand Larsen &                    339 \\\\\n",
      "\\hline\n",
      "\\end{tabular}\n"
     ]
    }
   ],
   "source": [
    "from tabulate import tabulate\n",
    "\n",
    "headers = ['number of papers']\n",
    "table1 = tabulate(top10_papers, headers, tablefmt='latex')\n",
    "print(table1)\n",
    "\n",
    "headers = ['fractional no. of papers']\n",
    "table2 = tabulate(top10_fractional, headers, tablefmt='latex')\n",
    "print(table2)\n",
    "\n",
    "headers = ['number of co-workers']\n",
    "table3 = tabulate(top10_co_workers, headers, tablefmt='latex')\n",
    "print(table3)\n"
   ]
  }
 ],
 "metadata": {
  "kernelspec": {
   "display_name": "base",
   "language": "python",
   "name": "python3"
  },
  "language_info": {
   "codemirror_mode": {
    "name": "ipython",
    "version": 3
   },
   "file_extension": ".py",
   "mimetype": "text/x-python",
   "name": "python",
   "nbconvert_exporter": "python",
   "pygments_lexer": "ipython3",
   "version": "3.9.16"
  },
  "orig_nbformat": 4
 },
 "nbformat": 4,
 "nbformat_minor": 2
}
