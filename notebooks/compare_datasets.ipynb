{
 "cells": [
  {
   "attachments": {},
   "cell_type": "markdown",
   "metadata": {},
   "source": [
    "# Compare Datasets\n",
    "Comparing the ghr-dataset with my very own.\n",
    "###### Nils Dyck, 17.05.2023"
   ]
  },
  {
   "cell_type": "code",
   "execution_count": 4,
   "metadata": {},
   "outputs": [],
   "source": [
    "import pandas as pd\n",
    "\n",
    "ghr = pd.read_csv('../data/cleaned/gruber-holzer-rauch_dataset.csv', sep=';')\n",
    "ghr = ghr.drop_duplicates(subset='Title')\n",
    "df = pd.read_csv('../data/cleaned/DATASET2.csv',sep=';')\n",
    "df = df.loc[df['Venue'].isin(['CIAA','WIA','Workshop on Implementing Automata'])]\n",
    "df = df.loc[df['Year']<2022]\n",
    "df = df.drop_duplicates(subset='Title')"
   ]
  },
  {
   "cell_type": "code",
   "execution_count": 5,
   "metadata": {},
   "outputs": [
    {
     "data": {
      "text/plain": [
       "(687, 10)"
      ]
     },
     "execution_count": 5,
     "metadata": {},
     "output_type": "execute_result"
    }
   ],
   "source": [
    "df.shape"
   ]
  },
  {
   "cell_type": "code",
   "execution_count": 6,
   "metadata": {},
   "outputs": [
    {
     "data": {
      "text/plain": [
       "(687, 10)"
      ]
     },
     "execution_count": 6,
     "metadata": {},
     "output_type": "execute_result"
    }
   ],
   "source": [
    "ghr.shape"
   ]
  },
  {
   "attachments": {},
   "cell_type": "markdown",
   "metadata": {},
   "source": [
    "### Are there the some papers different between both datasets?"
   ]
  },
  {
   "cell_type": "code",
   "execution_count": 7,
   "metadata": {},
   "outputs": [
    {
     "name": "stdout",
     "output_type": "stream",
     "text": [
      "A Class of Rational n-WFSM Auto-intersections.\n",
      "Path-Equivalent Removals of epsilon-transitions in a Genomic Weighted Finite Automaton.\n",
      "Crossing the Syntactic Barrier: Hom-Disequalities for H1-Clauses.\n",
      "On-the-Fly Stuttering in the Construction of Deterministic omega -Automata.\n",
      "The Automata Theory Package omega.\n",
      "On the Conjecture ℒDFCM ⊊ RCM.\n",
      "An O(n2) Algorithm for Constructing Minimal Cover Automata for Finite Languages.\n"
     ]
    }
   ],
   "source": [
    "for title in df['Title'].to_list():\n",
    "    if title not in ghr['Title'].to_list():\n",
    "        print(title)"
   ]
  },
  {
   "cell_type": "code",
   "execution_count": 8,
   "metadata": {},
   "outputs": [
    {
     "name": "stdout",
     "output_type": "stream",
     "text": [
      "A Class of Rational \n",
      "Path-Equivalent Removals of \n",
      "An O(n\n",
      "The Automata Theory Package \n",
      "On-the-Fly Stuttering in the Construction of Deterministic \n",
      "Crossing the Syntactic Barrier: Hom-Disequalities for H\n",
      "On the Conjecture ℒ\n"
     ]
    }
   ],
   "source": [
    "for title in ghr['Title'].to_list():\n",
    "    if title not in df['Title'].to_list():\n",
    "        print(title)"
   ]
  },
  {
   "attachments": {},
   "cell_type": "markdown",
   "metadata": {},
   "source": [
    "### Are there different author numbers in any paper?"
   ]
  },
  {
   "cell_type": "code",
   "execution_count": 26,
   "metadata": {},
   "outputs": [
    {
     "name": "stdout",
     "output_type": "stream",
     "text": [
      "No compare: A Class of Rational n-WFSM Auto-intersections.\n",
      "No compare: Path-Equivalent Removals of epsilon-transitions in a Genomic Weighted Finite Automaton.\n",
      "No compare: Crossing the Syntactic Barrier: Hom-Disequalities for H1-Clauses.\n",
      "No compare: On-the-Fly Stuttering in the Construction of Deterministic omega -Automata.\n",
      "No compare: The Automata Theory Package omega.\n",
      "No compare: An O(n2) Algorithm for Constructing Minimal Cover Automata for Finite Languages.\n"
     ]
    }
   ],
   "source": [
    "for title in df['Title'].to_list():\n",
    "    co_authors = str(df['Co-Author-URLs'].loc[df['Title']==title].to_list())\n",
    "    entries = co_authors.replace('[','').replace(']','').replace('\"','').replace(\"'\",'') \n",
    "    entries = entries.split(', ')\n",
    "    if entries == ['']:\n",
    "        continue\n",
    "    if title in ghr['Title'].to_list():\n",
    "        noAuthor = int(ghr['NoAuthor'].loc[ghr['Title']==title])\n",
    "        if len(entries)+1 != noAuthor:\n",
    "            print('Error: '+title+' '+str(len(entries)+1)+' '+str(noAuthor))\n",
    "    else: print('No compare: '+title)"
   ]
  }
 ],
 "metadata": {
  "kernelspec": {
   "display_name": "base",
   "language": "python",
   "name": "python3"
  },
  "language_info": {
   "codemirror_mode": {
    "name": "ipython",
    "version": 3
   },
   "file_extension": ".py",
   "mimetype": "text/x-python",
   "name": "python",
   "nbconvert_exporter": "python",
   "pygments_lexer": "ipython3",
   "version": "3.9.16"
  },
  "orig_nbformat": 4
 },
 "nbformat": 4,
 "nbformat_minor": 2
}
