{
 "cells": [
  {
   "cell_type": "code",
   "execution_count": 6,
   "metadata": {},
   "outputs": [
    {
     "name": "stdout",
     "output_type": "stream",
     "text": [
      "Intel MKL WARNING: Support of Intel(R) Streaming SIMD Extensions 4.2 (Intel(R) SSE4.2) enabled only processors has been deprecated. Intel oneAPI Math Kernel Library 2025.0 will require Intel(R) Advanced Vector Extensions (Intel(R) AVX) instructions.\n",
      "Intel MKL WARNING: Support of Intel(R) Streaming SIMD Extensions 4.2 (Intel(R) SSE4.2) enabled only processors has been deprecated. Intel oneAPI Math Kernel Library 2025.0 will require Intel(R) Advanced Vector Extensions (Intel(R) AVX) instructions.\n"
     ]
    },
    {
     "name": "stderr",
     "output_type": "stream",
     "text": [
      "/var/folders/68/zr6z7wd56pl2hspyj9v4d57m0000gn/T/ipykernel_15109/2538123195.py:5: FutureWarning: In future versions `DataFrame.to_latex` is expected to utilise the base implementation of `Styler.to_latex` for formatting and rendering. The arguments signature may therefore change. It is recommended instead to use `DataFrame.style.to_latex` which also contains additional functionality.\n",
      "  data.head().to_latex('../../uncleaned_data.txt')\n"
     ]
    }
   ],
   "source": [
    "import pandas as pd\n",
    "\n",
    "data = pd.read_csv('../data/processed/DATASET2.csv',sep=';')\n",
    "\n",
    "data.head().to_latex('../../uncleaned_data.txt')"
   ]
  },
  {
   "cell_type": "code",
   "execution_count": 7,
   "metadata": {},
   "outputs": [
    {
     "data": {
      "text/plain": [
       "'3.9.16 (main, Mar  8 2023, 04:29:44) \\n[Clang 14.0.6 ]'"
      ]
     },
     "execution_count": 7,
     "metadata": {},
     "output_type": "execute_result"
    }
   ],
   "source": [
    "import sys\n",
    "\n",
    "sys.version"
   ]
  },
  {
   "cell_type": "code",
   "execution_count": 10,
   "metadata": {},
   "outputs": [
    {
     "name": "stdout",
     "output_type": "stream",
     "text": [
      "51/1896\n",
      "30/3940-1\n",
      "179/4995\n",
      "70/6176-2\n",
      "92/4408-2\n"
     ]
    }
   ],
   "source": [
    "ciaa = pd.read_csv('../data/cleaned/CIAA-CIAA_m2.csv', sep=';')\n",
    "ghr = pd.read_csv('../data/cleaned/gruber-holzer-rauch_dataset.csv', sep=';')\n",
    "\n",
    "ciaa = ciaa.loc[ciaa['Year']<2022]\n",
    "\n",
    "ciaa_keys = ciaa['Author'].to_list()\n",
    "ghr_keys = ghr['URL'].to_list()\n",
    "\n",
    "ciaa_keys = [entry.replace('https://dblp.uni-trier.de/pid/','').replace('.html','') for entry in ciaa_keys]\n",
    "ghr_keys = [entry.replace('https://dblp.org/pid/','').replace('.html','') for entry in ghr_keys]\n",
    "\n",
    "for entry in ciaa_keys:\n",
    "    if entry not in ghr_keys:\n",
    "        print(entry)"
   ]
  }
 ],
 "metadata": {
  "kernelspec": {
   "display_name": "base",
   "language": "python",
   "name": "python3"
  },
  "language_info": {
   "codemirror_mode": {
    "name": "ipython",
    "version": 3
   },
   "file_extension": ".py",
   "mimetype": "text/x-python",
   "name": "python",
   "nbconvert_exporter": "python",
   "pygments_lexer": "ipython3",
   "version": "3.9.16"
  },
  "orig_nbformat": 4
 },
 "nbformat": 4,
 "nbformat_minor": 2
}
